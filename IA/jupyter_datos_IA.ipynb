{
 "cells": [
  {
   "cell_type": "markdown",
   "id": "e665d952-465e-4f3e-a086-cd8bcd227938",
   "metadata": {},
   "source": [
    "# <strong><font color=\"7b71ff\">IA aplicada a Data Science: Utilizando IA en la construcción de visualizaciones de datos</font></strong>\n",
    "\n",
    "\n",
    "---"
   ]
  },
  {
   "cell_type": "markdown",
   "id": "141c8ddf-d294-44ef-bbd6-82c1d8782ad9",
   "metadata": {},
   "source": [
    "<img src=\"https://raw.githubusercontent.com/alura-cursos/ia-datascience-dataviz/main/imagens/logos/logo_branca_fundo_azul.png\" alt=\"inserir alt\">"
   ]
  },
  {
   "cell_type": "markdown",
   "id": "c287a4e6-62b4-4fd2-89a5-318e07bd4511",
   "metadata": {},
   "source": [
    "# **Aula 1 - Conociendo los datos**"
   ]
  },
  {
   "cell_type": "markdown",
   "id": "bc7abb19-7d37-4a3a-9ebe-53e7a563d6f1",
   "metadata": {},
   "source": [
    " Zoop es una gran minorista que atiende a todas las regiones de México a través de su e-commerce. Es conocida por la amplia variedad de productos que ofrece, buscando satisfacer a todo tipo de público. Posee una serie de centros de distribución (CDs) para la entrega de sus productos, la mayoría de ellos situados en el estado de Mexico.\n",
    "\n",
    "Para gestionar su alcance, así como la facturación de su sector en tiendas online, consolida los datos en diferentes períodos de tiempo y evalúa estos datos para generar insights y tomar decisiones estratégicas en su negocio. En este proyecto, tendremos acceso a los datos de parte de su clientela de e-commerce durante el año 2023.\n",
    "\n",
    "Tú, como analista de datos de la empresa, necesitarás generar visualizaciones que ayuden en la elaboración de informes de acuerdo con algunas premisas proporcionadas por las partes interesadas, realizando un rápido análisis de la clientela que tenemos en la tienda virtual y de la facturación de la empresa.\n",
    "\n",
    "**Problema de negocio:**\n",
    "\n",
    "El equipo de datos de Zoop necesita extraer los datos y generar información a través de visuales que puedan presentarse a la directiva de la empresa, destacando los datos de facturación, perfil del cliente y otros indicadores que puedan ayudar en la toma de decisiones en su tienda online.\n",
    "\n",
    "**Base de datos**\n",
    "\n",
    "Vamos a importar dos bases de datos:\n",
    "\n",
    "Datos de los clientes del e-commerce de Zoop, separados por el código identificador de la compra.\n",
    "\n",
    "Datos de ventas del e-commerce de Zoop en 2023, separados por el código identificador de la compra.\n",
    "\n",
    "Estos datos se leerán desde el repositorio compartido en GitHub.\n",
    "\n",
    "**Desafío**\n",
    "\n",
    "Tú, como analista de datos del equipo de datos de Zoop, tienes el desafío de extraer los datos de ambas bases y construir visualizaciones que puedan agregar valor a la presentación de los resultados de Zoop en 2023. Para ello, se te presentarán 7 preguntas para que puedas contribuir en la construcción del storytelling de las ventas de la empresa.\n",
    "\n",
    "Para agilizar el proceso de análisis exploratorio de datos (AED) y la creación de visuales, utilizaremos la IA de ChatGPT como nuestra asistente, teniendo en cuenta el corto plazo para los análisis y la calidad de la entrega."
   ]
  },
  {
   "cell_type": "markdown",
   "id": "0e8c85db-e7f2-4383-9d5d-41f5f343aef8",
   "metadata": {},
   "source": [
    "## **1.2 - Obteniendo los datos**\n",
    "\n",
    "---"
   ]
  },
  {
   "cell_type": "markdown",
   "id": "eb4cbfa9-a035-4275-b390-c9673e829181",
   "metadata": {},
   "source": [
    "Vamos inicialmente a proveer el link del repositorio con las dos bases que utilizaremos en el proyecto:"
   ]
  },
  {
   "cell_type": "code",
   "execution_count": 5,
   "id": "66923dbe-a31f-4f80-8a2c-12176b7e9c69",
   "metadata": {},
   "outputs": [],
   "source": [
    "url_clientes = \"https://gist.githubusercontent.com/ahcamachod/d08898e1cc84c7271856e78d9558ca3d/raw/2f7e1fa53711efe6433a5c5ec79948f600591cb9/clientes_zoop.csv\"\n",
    "url_ventas = \"https://gist.githubusercontent.com/ahcamachod/966d7162a3c3a2769b8770b35abf1bcc/raw/d79941b3fa46a450f3611589abd8663399c1277b/ventas_zoop.csv\""
   ]
  },
  {
   "cell_type": "markdown",
   "id": "2c028216-920c-4691-9f1a-9f6b30904292",
   "metadata": {},
   "source": [
    "Después de esta etapa, vamos a crear 2 dataframes con los datos de los clientes y de las ventas de Zoop separadamente y realizar una pequeña verificación en las tablas extraídas."
   ]
  },
  {
   "cell_type": "markdown",
   "id": "064c6dfa-c390-491f-88c7-6152a5adbdf3",
   "metadata": {},
   "source": [
    "# importamos las bibliotecas\n",
    "\n",
    "import pandas as pd\n",
    "import numpy as np\n",
    "import seaborn as sns\n",
    "import matplotlib.pyplot as plt\n",
    "import plotly.express as px\n",
    "import warnings\n",
    "\n",
    "warnings.filterwarnings('ignore')"
   ]
  },
  {
   "cell_type": "code",
   "execution_count": 7,
   "id": "b290959f-2640-4359-9660-478a1c7b7e11",
   "metadata": {},
   "outputs": [],
   "source": [
    "# dataframe\n",
    "\n",
    "clientes = pd.read_csv(url_clientes)\n",
    "ventas = pd.read_csv(url_ventas)"
   ]
  },
  {
   "cell_type": "code",
   "execution_count": 8,
   "id": "acd6d99a-45f7-47f5-a27c-595da53089ce",
   "metadata": {},
   "outputs": [
    {
     "data": {
      "text/html": [
       "<div>\n",
       "<style scoped>\n",
       "    .dataframe tbody tr th:only-of-type {\n",
       "        vertical-align: middle;\n",
       "    }\n",
       "\n",
       "    .dataframe tbody tr th {\n",
       "        vertical-align: top;\n",
       "    }\n",
       "\n",
       "    .dataframe thead th {\n",
       "        text-align: right;\n",
       "    }\n",
       "</style>\n",
       "<table border=\"1\" class=\"dataframe\">\n",
       "  <thead>\n",
       "    <tr style=\"text-align: right;\">\n",
       "      <th></th>\n",
       "      <th>ID_compra</th>\n",
       "      <th>ID_cliente</th>\n",
       "      <th>ciudad</th>\n",
       "      <th>estado</th>\n",
       "      <th>region</th>\n",
       "      <th>edad</th>\n",
       "      <th>sexo_biologico</th>\n",
       "      <th>cashback</th>\n",
       "      <th>nota</th>\n",
       "    </tr>\n",
       "  </thead>\n",
       "  <tbody>\n",
       "    <tr>\n",
       "      <th>0</th>\n",
       "      <td>904</td>\n",
       "      <td>8972</td>\n",
       "      <td>Oaxaca de Juárez</td>\n",
       "      <td>Oaxaca</td>\n",
       "      <td>Sur</td>\n",
       "      <td>49</td>\n",
       "      <td>Masculino</td>\n",
       "      <td>No</td>\n",
       "      <td>9</td>\n",
       "    </tr>\n",
       "    <tr>\n",
       "      <th>1</th>\n",
       "      <td>4613</td>\n",
       "      <td>5120</td>\n",
       "      <td>Ciudad de México</td>\n",
       "      <td>Ciudad de México</td>\n",
       "      <td>Centro</td>\n",
       "      <td>49</td>\n",
       "      <td>Femenino</td>\n",
       "      <td>No</td>\n",
       "      <td>9</td>\n",
       "    </tr>\n",
       "    <tr>\n",
       "      <th>2</th>\n",
       "      <td>5579</td>\n",
       "      <td>1847</td>\n",
       "      <td>Ciudad de México</td>\n",
       "      <td>Ciudad de México</td>\n",
       "      <td>Centro</td>\n",
       "      <td>24</td>\n",
       "      <td>Femenino</td>\n",
       "      <td>No</td>\n",
       "      <td>8</td>\n",
       "    </tr>\n",
       "    <tr>\n",
       "      <th>3</th>\n",
       "      <td>2405</td>\n",
       "      <td>2846</td>\n",
       "      <td>Ciudad de México</td>\n",
       "      <td>Ciudad de México</td>\n",
       "      <td>Centro</td>\n",
       "      <td>38</td>\n",
       "      <td>Femenino</td>\n",
       "      <td>Sí</td>\n",
       "      <td>7</td>\n",
       "    </tr>\n",
       "    <tr>\n",
       "      <th>4</th>\n",
       "      <td>2485</td>\n",
       "      <td>2715</td>\n",
       "      <td>Chihuahua</td>\n",
       "      <td>Chihuahua</td>\n",
       "      <td>Noroeste</td>\n",
       "      <td>30</td>\n",
       "      <td>Femenino</td>\n",
       "      <td>No</td>\n",
       "      <td>10</td>\n",
       "    </tr>\n",
       "  </tbody>\n",
       "</table>\n",
       "</div>"
      ],
      "text/plain": [
       "   ID_compra  ID_cliente            ciudad            estado    region  edad  \\\n",
       "0        904        8972  Oaxaca de Juárez            Oaxaca       Sur    49   \n",
       "1       4613        5120  Ciudad de México  Ciudad de México    Centro    49   \n",
       "2       5579        1847  Ciudad de México  Ciudad de México    Centro    24   \n",
       "3       2405        2846  Ciudad de México  Ciudad de México    Centro    38   \n",
       "4       2485        2715         Chihuahua         Chihuahua  Noroeste    30   \n",
       "\n",
       "  sexo_biologico cashback  nota  \n",
       "0      Masculino       No     9  \n",
       "1       Femenino       No     9  \n",
       "2       Femenino       No     8  \n",
       "3       Femenino       Sí     7  \n",
       "4       Femenino       No    10  "
      ]
     },
     "execution_count": 8,
     "metadata": {},
     "output_type": "execute_result"
    }
   ],
   "source": [
    "clientes.head()"
   ]
  },
  {
   "cell_type": "code",
   "execution_count": 11,
   "id": "807114af-b1e4-42b8-a05a-df806360f32c",
   "metadata": {},
   "outputs": [
    {
     "data": {
      "text/html": [
       "<div>\n",
       "<style scoped>\n",
       "    .dataframe tbody tr th:only-of-type {\n",
       "        vertical-align: middle;\n",
       "    }\n",
       "\n",
       "    .dataframe tbody tr th {\n",
       "        vertical-align: top;\n",
       "    }\n",
       "\n",
       "    .dataframe thead th {\n",
       "        text-align: right;\n",
       "    }\n",
       "</style>\n",
       "<table border=\"1\" class=\"dataframe\">\n",
       "  <thead>\n",
       "    <tr style=\"text-align: right;\">\n",
       "      <th></th>\n",
       "      <th>ID_compra</th>\n",
       "      <th>fecha</th>\n",
       "      <th>horario</th>\n",
       "      <th>categoria</th>\n",
       "      <th>precio_unitario</th>\n",
       "      <th>cantidad</th>\n",
       "      <th>envio</th>\n",
       "      <th>metodo_pago</th>\n",
       "    </tr>\n",
       "  </thead>\n",
       "  <tbody>\n",
       "    <tr>\n",
       "      <th>6164</th>\n",
       "      <td>6141</td>\n",
       "      <td>2023-12-31</td>\n",
       "      <td>17:49</td>\n",
       "      <td>Electrodomésticos</td>\n",
       "      <td>1509.9</td>\n",
       "      <td>5</td>\n",
       "      <td>377.48</td>\n",
       "      <td>Tarjeta de Crédito</td>\n",
       "    </tr>\n",
       "    <tr>\n",
       "      <th>6165</th>\n",
       "      <td>6148</td>\n",
       "      <td>2023-12-31</td>\n",
       "      <td>23:02</td>\n",
       "      <td>Papelería y oficina</td>\n",
       "      <td>14.0</td>\n",
       "      <td>2</td>\n",
       "      <td>3.36</td>\n",
       "      <td>Transferencia</td>\n",
       "    </tr>\n",
       "    <tr>\n",
       "      <th>6166</th>\n",
       "      <td>6123</td>\n",
       "      <td>2023-12-31</td>\n",
       "      <td>21:25</td>\n",
       "      <td>Alimentos y bebidas</td>\n",
       "      <td>77.9</td>\n",
       "      <td>1</td>\n",
       "      <td>7.79</td>\n",
       "      <td>Tarjeta de Crédito</td>\n",
       "    </tr>\n",
       "    <tr>\n",
       "      <th>6167</th>\n",
       "      <td>6147</td>\n",
       "      <td>2023-12-31</td>\n",
       "      <td>21:38</td>\n",
       "      <td>Libros</td>\n",
       "      <td>142.9</td>\n",
       "      <td>4</td>\n",
       "      <td>17.15</td>\n",
       "      <td>Tarjeta de Crédito</td>\n",
       "    </tr>\n",
       "    <tr>\n",
       "      <th>6168</th>\n",
       "      <td>6122</td>\n",
       "      <td>2023-12-31</td>\n",
       "      <td>22:11</td>\n",
       "      <td>Belleza e higiene</td>\n",
       "      <td>89.9</td>\n",
       "      <td>5</td>\n",
       "      <td>13.48</td>\n",
       "      <td>Tarjeta de Crédito</td>\n",
       "    </tr>\n",
       "  </tbody>\n",
       "</table>\n",
       "</div>"
      ],
      "text/plain": [
       "      ID_compra       fecha horario            categoria  precio_unitario  \\\n",
       "6164       6141  2023-12-31   17:49    Electrodomésticos           1509.9   \n",
       "6165       6148  2023-12-31   23:02  Papelería y oficina             14.0   \n",
       "6166       6123  2023-12-31   21:25  Alimentos y bebidas             77.9   \n",
       "6167       6147  2023-12-31   21:38               Libros            142.9   \n",
       "6168       6122  2023-12-31   22:11    Belleza e higiene             89.9   \n",
       "\n",
       "      cantidad   envio         metodo_pago  \n",
       "6164         5  377.48  Tarjeta de Crédito  \n",
       "6165         2    3.36       Transferencia  \n",
       "6166         1    7.79  Tarjeta de Crédito  \n",
       "6167         4   17.15  Tarjeta de Crédito  \n",
       "6168         5   13.48  Tarjeta de Crédito  "
      ]
     },
     "execution_count": 11,
     "metadata": {},
     "output_type": "execute_result"
    }
   ],
   "source": [
    "ventas.tail()"
   ]
  },
  {
   "cell_type": "markdown",
   "id": "2de332d8-6769-4b55-a2d6-6a4425bfdb60",
   "metadata": {},
   "source": [
    "## **1.3 - Entendiendo los datos**\n",
    "\n",
    "---"
   ]
  },
  {
   "cell_type": "markdown",
   "id": "c839ceba-bf9d-4ff1-9c3a-e56c5e8900ec",
   "metadata": {},
   "source": [
    "Ahora, vamos a explorar los datos comprendiendo lo que significan y cómo podemos relacionarlos en la construcción de las visualizaciones."
   ]
  },
  {
   "cell_type": "markdown",
   "id": "7be5bf8d-8ab8-4a13-8dc2-d1aa6384a67f",
   "metadata": {},
   "source": [
    "### **Base de clientes**"
   ]
  },
  {
   "cell_type": "markdown",
   "id": "a4a5bff0-b8d7-4b50-92b4-7d3180d3a4f1",
   "metadata": {},
   "source": [
    "> #### <strong><font color=\"7b71ff\" size =6>Prompt:</font></strong>\n",
    "\n",
    "Vamos a actuar como analistas de datos de una e-commerce. Recibimos dos bases de datos con los datos de los clientes y de las ventas en 2023, respectivamente.\n",
    "\n",
    "En este primer momento, vamos a explorar la base de clientes en formato de un DataFrame de pandas, llamado \"clientes\". Contiene datos de los clientes que realizaron compras en la tienda virtual, siendo estos: ID de la compra, ID del cliente, la ciudad, estado y región de la compra, edad, sexo biológico, si participan en el programa de cashback y la calificación, o nota, de la compra.\n",
    "\n",
    "Queremos hacer una breve exploración de los datos para comprender un poco sobre ellos. Recordando que los datos de esta base ya están limpios y tratados. Construye el código para ejecutar esta etapa utilizando Python con el objetivo de conocer mejor el dataframe \"clientes\" y algunos de sus atributos.\n",
    "\n",
    "No es necesario utilizar \"print()\" para mostrar el resultado de las consultas."
   ]
  },
  {
   "cell_type": "code",
   "execution_count": null,
   "id": "8f90dd34-beb6-461a-82f8-65d8a45323b0",
   "metadata": {},
   "outputs": [],
   "source": []
  },
  {
   "cell_type": "code",
   "execution_count": null,
   "id": "10942766-6dbb-404c-9acb-9d155dcd927b",
   "metadata": {},
   "outputs": [],
   "source": []
  },
  {
   "cell_type": "code",
   "execution_count": null,
   "id": "741fe0cf-3f2c-4710-b680-729de7a3f2a0",
   "metadata": {},
   "outputs": [],
   "source": []
  },
  {
   "cell_type": "code",
   "execution_count": null,
   "id": "2d402600-98a4-4985-8de0-74484b9e1eb8",
   "metadata": {},
   "outputs": [],
   "source": []
  }
 ],
 "metadata": {
  "kernelspec": {
   "display_name": "Python 3 (ipykernel)",
   "language": "python",
   "name": "python3"
  },
  "language_info": {
   "codemirror_mode": {
    "name": "ipython",
    "version": 3
   },
   "file_extension": ".py",
   "mimetype": "text/x-python",
   "name": "python",
   "nbconvert_exporter": "python",
   "pygments_lexer": "ipython3",
   "version": "3.13.3"
  }
 },
 "nbformat": 4,
 "nbformat_minor": 5
}
