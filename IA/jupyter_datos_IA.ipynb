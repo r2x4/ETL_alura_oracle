{
 "cells": [
  {
   "cell_type": "code",
   "execution_count": null,
   "id": "a3585ab4-858f-4461-a820-9f15f330700f",
   "metadata": {},
   "outputs": [],
   "source": []
  }
 ],
 "metadata": {
  "kernelspec": {
   "display_name": "",
   "name": ""
  },
  "language_info": {
   "name": ""
  }
 },
 "nbformat": 4,
 "nbformat_minor": 5
}
