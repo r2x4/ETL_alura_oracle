{
 "cells": [
  {
   "cell_type": "markdown",
   "id": "e665d952-465e-4f3e-a086-cd8bcd227938",
   "metadata": {},
   "source": [
    "# <strong><font color=\"7b71ff\">IA aplicada a Data Science: Utilizando IA en la construcción de visualizaciones de datos</font></strong>\n",
    "\n",
    "\n",
    "---"
   ]
  },
  {
   "cell_type": "markdown",
   "id": "141c8ddf-d294-44ef-bbd6-82c1d8782ad9",
   "metadata": {},
   "source": [
    "<img src=\"https://raw.githubusercontent.com/alura-cursos/ia-datascience-dataviz/main/imagens/logos/logo_branca_fundo_azul.png\" alt=\"inserir alt\">"
   ]
  },
  {
   "cell_type": "markdown",
   "id": "c287a4e6-62b4-4fd2-89a5-318e07bd4511",
   "metadata": {},
   "source": [
    "# **Aula 1 - Conociendo los datos**"
   ]
  },
  {
   "cell_type": "markdown",
   "id": "bc7abb19-7d37-4a3a-9ebe-53e7a563d6f1",
   "metadata": {},
   "source": [
    " Zoop es una gran minorista que atiende a todas las regiones de México a través de su e-commerce. Es conocida por la amplia variedad de productos que ofrece, buscando satisfacer a todo tipo de público. Posee una serie de centros de distribución (CDs) para la entrega de sus productos, la mayoría de ellos situados en el estado de Mexico.\n",
    "\n",
    "Para gestionar su alcance, así como la facturación de su sector en tiendas online, consolida los datos en diferentes períodos de tiempo y evalúa estos datos para generar insights y tomar decisiones estratégicas en su negocio. En este proyecto, tendremos acceso a los datos de parte de su clientela de e-commerce durante el año 2023.\n",
    "\n",
    "Tú, como analista de datos de la empresa, necesitarás generar visualizaciones que ayuden en la elaboración de informes de acuerdo con algunas premisas proporcionadas por las partes interesadas, realizando un rápido análisis de la clientela que tenemos en la tienda virtual y de la facturación de la empresa.\n",
    "\n",
    "**Problema de negocio:**\n",
    "\n",
    "El equipo de datos de Zoop necesita extraer los datos y generar información a través de visuales que puedan presentarse a la directiva de la empresa, destacando los datos de facturación, perfil del cliente y otros indicadores que puedan ayudar en la toma de decisiones en su tienda online.\n",
    "\n",
    "**Base de datos**\n",
    "\n",
    "Vamos a importar dos bases de datos:\n",
    "\n",
    "Datos de los clientes del e-commerce de Zoop, separados por el código identificador de la compra.\n",
    "\n",
    "Datos de ventas del e-commerce de Zoop en 2023, separados por el código identificador de la compra.\n",
    "\n",
    "Estos datos se leerán desde el repositorio compartido en GitHub.\n",
    "\n",
    "**Desafío**\n",
    "\n",
    "Tú, como analista de datos del equipo de datos de Zoop, tienes el desafío de extraer los datos de ambas bases y construir visualizaciones que puedan agregar valor a la presentación de los resultados de Zoop en 2023. Para ello, se te presentarán 7 preguntas para que puedas contribuir en la construcción del storytelling de las ventas de la empresa.\n",
    "\n",
    "Para agilizar el proceso de análisis exploratorio de datos (AED) y la creación de visuales, utilizaremos la IA de ChatGPT como nuestra asistente, teniendo en cuenta el corto plazo para los análisis y la calidad de la entrega."
   ]
  },
  {
   "cell_type": "markdown",
   "id": "0e8c85db-e7f2-4383-9d5d-41f5f343aef8",
   "metadata": {},
   "source": [
    "## **1.2 - Obteniendo los datos**\n",
    "\n",
    "---"
   ]
  },
  {
   "cell_type": "markdown",
   "id": "eb4cbfa9-a035-4275-b390-c9673e829181",
   "metadata": {},
   "source": [
    "Vamos inicialmente a proveer el link del repositorio con las dos bases que utilizaremos en el proyecto:"
   ]
  },
  {
   "cell_type": "code",
   "execution_count": 1,
   "id": "66923dbe-a31f-4f80-8a2c-12176b7e9c69",
   "metadata": {},
   "outputs": [],
   "source": [
    "url_clientes = \"https://gist.githubusercontent.com/ahcamachod/d08898e1cc84c7271856e78d9558ca3d/raw/2f7e1fa53711efe6433a5c5ec79948f600591cb9/clientes_zoop.csv\"\n",
    "url_ventas = \"https://gist.githubusercontent.com/ahcamachod/966d7162a3c3a2769b8770b35abf1bcc/raw/d79941b3fa46a450f3611589abd8663399c1277b/ventas_zoop.csv\""
   ]
  },
  {
   "cell_type": "markdown",
   "id": "2c028216-920c-4691-9f1a-9f6b30904292",
   "metadata": {},
   "source": [
    "Después de esta etapa, vamos a crear 2 dataframes con los datos de los clientes y de las ventas de Zoop separadamente y realizar una pequeña verificación en las tablas extraídas."
   ]
  },
  {
   "cell_type": "code",
   "execution_count": 2,
   "id": "0515eed8-d2fa-47b8-a22c-45e790c3d038",
   "metadata": {},
   "outputs": [],
   "source": [
    "# importamos las bibliotecas\n",
    "\n",
    "import pandas as pd\n",
    "import numpy as np\n",
    "import seaborn as sns\n",
    "import matplotlib.pyplot as plt\n",
    "import plotly.express as px\n",
    "import warnings\n",
    "\n",
    "warnings.filterwarnings('ignore')"
   ]
  },
  {
   "cell_type": "code",
   "execution_count": 3,
   "id": "b290959f-2640-4359-9660-478a1c7b7e11",
   "metadata": {},
   "outputs": [],
   "source": [
    "# dataframe\n",
    "\n",
    "clientes = pd.read_csv(url_clientes)\n",
    "ventas = pd.read_csv(url_ventas)"
   ]
  },
  {
   "cell_type": "code",
   "execution_count": 4,
   "id": "acd6d99a-45f7-47f5-a27c-595da53089ce",
   "metadata": {},
   "outputs": [
    {
     "data": {
      "text/html": [
       "<div>\n",
       "<style scoped>\n",
       "    .dataframe tbody tr th:only-of-type {\n",
       "        vertical-align: middle;\n",
       "    }\n",
       "\n",
       "    .dataframe tbody tr th {\n",
       "        vertical-align: top;\n",
       "    }\n",
       "\n",
       "    .dataframe thead th {\n",
       "        text-align: right;\n",
       "    }\n",
       "</style>\n",
       "<table border=\"1\" class=\"dataframe\">\n",
       "  <thead>\n",
       "    <tr style=\"text-align: right;\">\n",
       "      <th></th>\n",
       "      <th>ID_compra</th>\n",
       "      <th>ID_cliente</th>\n",
       "      <th>ciudad</th>\n",
       "      <th>estado</th>\n",
       "      <th>region</th>\n",
       "      <th>edad</th>\n",
       "      <th>sexo_biologico</th>\n",
       "      <th>cashback</th>\n",
       "      <th>nota</th>\n",
       "    </tr>\n",
       "  </thead>\n",
       "  <tbody>\n",
       "    <tr>\n",
       "      <th>0</th>\n",
       "      <td>904</td>\n",
       "      <td>8972</td>\n",
       "      <td>Oaxaca de Juárez</td>\n",
       "      <td>Oaxaca</td>\n",
       "      <td>Sur</td>\n",
       "      <td>49</td>\n",
       "      <td>Masculino</td>\n",
       "      <td>No</td>\n",
       "      <td>9</td>\n",
       "    </tr>\n",
       "    <tr>\n",
       "      <th>1</th>\n",
       "      <td>4613</td>\n",
       "      <td>5120</td>\n",
       "      <td>Ciudad de México</td>\n",
       "      <td>Ciudad de México</td>\n",
       "      <td>Centro</td>\n",
       "      <td>49</td>\n",
       "      <td>Femenino</td>\n",
       "      <td>No</td>\n",
       "      <td>9</td>\n",
       "    </tr>\n",
       "    <tr>\n",
       "      <th>2</th>\n",
       "      <td>5579</td>\n",
       "      <td>1847</td>\n",
       "      <td>Ciudad de México</td>\n",
       "      <td>Ciudad de México</td>\n",
       "      <td>Centro</td>\n",
       "      <td>24</td>\n",
       "      <td>Femenino</td>\n",
       "      <td>No</td>\n",
       "      <td>8</td>\n",
       "    </tr>\n",
       "    <tr>\n",
       "      <th>3</th>\n",
       "      <td>2405</td>\n",
       "      <td>2846</td>\n",
       "      <td>Ciudad de México</td>\n",
       "      <td>Ciudad de México</td>\n",
       "      <td>Centro</td>\n",
       "      <td>38</td>\n",
       "      <td>Femenino</td>\n",
       "      <td>Sí</td>\n",
       "      <td>7</td>\n",
       "    </tr>\n",
       "    <tr>\n",
       "      <th>4</th>\n",
       "      <td>2485</td>\n",
       "      <td>2715</td>\n",
       "      <td>Chihuahua</td>\n",
       "      <td>Chihuahua</td>\n",
       "      <td>Noroeste</td>\n",
       "      <td>30</td>\n",
       "      <td>Femenino</td>\n",
       "      <td>No</td>\n",
       "      <td>10</td>\n",
       "    </tr>\n",
       "  </tbody>\n",
       "</table>\n",
       "</div>"
      ],
      "text/plain": [
       "   ID_compra  ID_cliente            ciudad            estado    region  edad  \\\n",
       "0        904        8972  Oaxaca de Juárez            Oaxaca       Sur    49   \n",
       "1       4613        5120  Ciudad de México  Ciudad de México    Centro    49   \n",
       "2       5579        1847  Ciudad de México  Ciudad de México    Centro    24   \n",
       "3       2405        2846  Ciudad de México  Ciudad de México    Centro    38   \n",
       "4       2485        2715         Chihuahua         Chihuahua  Noroeste    30   \n",
       "\n",
       "  sexo_biologico cashback  nota  \n",
       "0      Masculino       No     9  \n",
       "1       Femenino       No     9  \n",
       "2       Femenino       No     8  \n",
       "3       Femenino       Sí     7  \n",
       "4       Femenino       No    10  "
      ]
     },
     "execution_count": 4,
     "metadata": {},
     "output_type": "execute_result"
    }
   ],
   "source": [
    "clientes.head()"
   ]
  },
  {
   "cell_type": "code",
   "execution_count": 5,
   "id": "807114af-b1e4-42b8-a05a-df806360f32c",
   "metadata": {},
   "outputs": [
    {
     "data": {
      "text/html": [
       "<div>\n",
       "<style scoped>\n",
       "    .dataframe tbody tr th:only-of-type {\n",
       "        vertical-align: middle;\n",
       "    }\n",
       "\n",
       "    .dataframe tbody tr th {\n",
       "        vertical-align: top;\n",
       "    }\n",
       "\n",
       "    .dataframe thead th {\n",
       "        text-align: right;\n",
       "    }\n",
       "</style>\n",
       "<table border=\"1\" class=\"dataframe\">\n",
       "  <thead>\n",
       "    <tr style=\"text-align: right;\">\n",
       "      <th></th>\n",
       "      <th>ID_compra</th>\n",
       "      <th>fecha</th>\n",
       "      <th>horario</th>\n",
       "      <th>categoria</th>\n",
       "      <th>precio_unitario</th>\n",
       "      <th>cantidad</th>\n",
       "      <th>envio</th>\n",
       "      <th>metodo_pago</th>\n",
       "    </tr>\n",
       "  </thead>\n",
       "  <tbody>\n",
       "    <tr>\n",
       "      <th>6164</th>\n",
       "      <td>6141</td>\n",
       "      <td>2023-12-31</td>\n",
       "      <td>17:49</td>\n",
       "      <td>Electrodomésticos</td>\n",
       "      <td>1509.9</td>\n",
       "      <td>5</td>\n",
       "      <td>377.48</td>\n",
       "      <td>Tarjeta de Crédito</td>\n",
       "    </tr>\n",
       "    <tr>\n",
       "      <th>6165</th>\n",
       "      <td>6148</td>\n",
       "      <td>2023-12-31</td>\n",
       "      <td>23:02</td>\n",
       "      <td>Papelería y oficina</td>\n",
       "      <td>14.0</td>\n",
       "      <td>2</td>\n",
       "      <td>3.36</td>\n",
       "      <td>Transferencia</td>\n",
       "    </tr>\n",
       "    <tr>\n",
       "      <th>6166</th>\n",
       "      <td>6123</td>\n",
       "      <td>2023-12-31</td>\n",
       "      <td>21:25</td>\n",
       "      <td>Alimentos y bebidas</td>\n",
       "      <td>77.9</td>\n",
       "      <td>1</td>\n",
       "      <td>7.79</td>\n",
       "      <td>Tarjeta de Crédito</td>\n",
       "    </tr>\n",
       "    <tr>\n",
       "      <th>6167</th>\n",
       "      <td>6147</td>\n",
       "      <td>2023-12-31</td>\n",
       "      <td>21:38</td>\n",
       "      <td>Libros</td>\n",
       "      <td>142.9</td>\n",
       "      <td>4</td>\n",
       "      <td>17.15</td>\n",
       "      <td>Tarjeta de Crédito</td>\n",
       "    </tr>\n",
       "    <tr>\n",
       "      <th>6168</th>\n",
       "      <td>6122</td>\n",
       "      <td>2023-12-31</td>\n",
       "      <td>22:11</td>\n",
       "      <td>Belleza e higiene</td>\n",
       "      <td>89.9</td>\n",
       "      <td>5</td>\n",
       "      <td>13.48</td>\n",
       "      <td>Tarjeta de Crédito</td>\n",
       "    </tr>\n",
       "  </tbody>\n",
       "</table>\n",
       "</div>"
      ],
      "text/plain": [
       "      ID_compra       fecha horario            categoria  precio_unitario  \\\n",
       "6164       6141  2023-12-31   17:49    Electrodomésticos           1509.9   \n",
       "6165       6148  2023-12-31   23:02  Papelería y oficina             14.0   \n",
       "6166       6123  2023-12-31   21:25  Alimentos y bebidas             77.9   \n",
       "6167       6147  2023-12-31   21:38               Libros            142.9   \n",
       "6168       6122  2023-12-31   22:11    Belleza e higiene             89.9   \n",
       "\n",
       "      cantidad   envio         metodo_pago  \n",
       "6164         5  377.48  Tarjeta de Crédito  \n",
       "6165         2    3.36       Transferencia  \n",
       "6166         1    7.79  Tarjeta de Crédito  \n",
       "6167         4   17.15  Tarjeta de Crédito  \n",
       "6168         5   13.48  Tarjeta de Crédito  "
      ]
     },
     "execution_count": 5,
     "metadata": {},
     "output_type": "execute_result"
    }
   ],
   "source": [
    "ventas.tail()"
   ]
  },
  {
   "cell_type": "markdown",
   "id": "2de332d8-6769-4b55-a2d6-6a4425bfdb60",
   "metadata": {},
   "source": [
    "## **1.3 - Entendiendo los datos**\n",
    "\n",
    "---"
   ]
  },
  {
   "cell_type": "markdown",
   "id": "c839ceba-bf9d-4ff1-9c3a-e56c5e8900ec",
   "metadata": {},
   "source": [
    "Ahora, vamos a explorar los datos comprendiendo lo que significan y cómo podemos relacionarlos en la construcción de las visualizaciones."
   ]
  },
  {
   "cell_type": "markdown",
   "id": "7be5bf8d-8ab8-4a13-8dc2-d1aa6384a67f",
   "metadata": {},
   "source": [
    "### **Base de clientes**"
   ]
  },
  {
   "cell_type": "markdown",
   "id": "a4a5bff0-b8d7-4b50-92b4-7d3180d3a4f1",
   "metadata": {},
   "source": [
    "> #### <strong><font color=\"7b71ff\" size =6>Prompt:</font></strong>\n",
    "\n",
    "Vamos a actuar como analistas de datos de una e-commerce. Recibimos dos bases de datos con los datos de los clientes y de las ventas en 2023, respectivamente.\n",
    "\n",
    "En este primer momento, vamos a explorar la base de clientes en formato de un DataFrame de pandas, llamado \"clientes\". Contiene datos de los clientes que realizaron compras en la tienda virtual, siendo estos: ID de la compra, ID del cliente, la ciudad, estado y región de la compra, edad, sexo biológico, si participan en el programa de cashback y la calificación, o nota, de la compra.\n",
    "\n",
    "Queremos hacer una breve exploración de los datos para comprender un poco sobre ellos. Recordando que los datos de esta base ya están limpios y tratados. Construye el código para ejecutar esta etapa utilizando Python con el objetivo de conocer mejor el dataframe \"clientes\" y algunos de sus atributos.\n",
    "\n",
    "No es necesario utilizar \"print()\" para mostrar el resultado de las consultas."
   ]
  },
  {
   "cell_type": "markdown",
   "id": "bbe8d9e1-0e3a-4ae6-87c4-2eca85ac261f",
   "metadata": {},
   "source": [
    "# Ver las primeras 5 filas del DataFrame\n",
    "clientes.head()\n",
    "\n",
    "# Ver las últimas 5 filas del DataFrame\n",
    "clientes.tail()\n",
    "\n",
    "# Ver las dimensiones del DataFrame (número de filas y columnas)\n",
    "clientes.shape\n",
    "\n",
    "# Ver los nombres de las columnas\n",
    "clientes.columns\n",
    "\n",
    "# Ver el tipo de datos de cada columna\n",
    "clientes.dtypes\n",
    "\n",
    "# Ver información general del DataFrame\n",
    "clientes.info()\n",
    "\n",
    "# Ver estadísticas descriptivas de las columnas numéricas\n",
    "clientes.describe()\n",
    "\n",
    "# Ver estadísticas descriptivas de las columnas categóricas\n",
    "clientes.describe(include='object')\n",
    "\n",
    "# Ver cuántos valores únicos hay en cada columna\n",
    "clientes.nunique()\n",
    "\n",
    "# Ver si hay valores nulos en el DataFrame\n",
    "clientes.isnull().sum()\n",
    "\n",
    "# Ver un resumen general del DataFrame (numérico y categórico)\n",
    "clientes.describe(include='all')\n"
   ]
  },
  {
   "cell_type": "code",
   "execution_count": 6,
   "id": "2d402600-98a4-4985-8de0-74484b9e1eb8",
   "metadata": {},
   "outputs": [
    {
     "data": {
      "text/plain": [
       "Index(['ID_compra', 'ID_cliente', 'ciudad', 'estado', 'region', 'edad',\n",
       "       'sexo_biologico', 'cashback', 'nota'],\n",
       "      dtype='object')"
      ]
     },
     "execution_count": 6,
     "metadata": {},
     "output_type": "execute_result"
    }
   ],
   "source": [
    "clientes.columns"
   ]
  },
  {
   "cell_type": "code",
   "execution_count": 7,
   "id": "b378ceb6-19bb-42b9-a792-e7172f2f55df",
   "metadata": {},
   "outputs": [
    {
     "data": {
      "text/plain": [
       "ID_compra         0\n",
       "ID_cliente        0\n",
       "ciudad            0\n",
       "estado            0\n",
       "region            0\n",
       "edad              0\n",
       "sexo_biologico    0\n",
       "cashback          0\n",
       "nota              0\n",
       "dtype: int64"
      ]
     },
     "execution_count": 7,
     "metadata": {},
     "output_type": "execute_result"
    }
   ],
   "source": [
    "clientes.isnull().sum()"
   ]
  },
  {
   "cell_type": "code",
   "execution_count": 8,
   "id": "62be7388-083d-4ce7-89bd-cc2e68f34215",
   "metadata": {},
   "outputs": [
    {
     "data": {
      "text/plain": [
       "ID_compra          int64\n",
       "ID_cliente         int64\n",
       "ciudad            object\n",
       "estado            object\n",
       "region            object\n",
       "edad               int64\n",
       "sexo_biologico    object\n",
       "cashback          object\n",
       "nota               int64\n",
       "dtype: object"
      ]
     },
     "execution_count": 8,
     "metadata": {},
     "output_type": "execute_result"
    }
   ],
   "source": [
    "clientes.dtypes"
   ]
  },
  {
   "cell_type": "code",
   "execution_count": 9,
   "id": "1fd20952-b00a-4e70-ace6-f23bc83d4c7f",
   "metadata": {},
   "outputs": [
    {
     "name": "stdout",
     "output_type": "stream",
     "text": [
      "<class 'pandas.core.frame.DataFrame'>\n",
      "RangeIndex: 6169 entries, 0 to 6168\n",
      "Data columns (total 9 columns):\n",
      " #   Column          Non-Null Count  Dtype \n",
      "---  ------          --------------  ----- \n",
      " 0   ID_compra       6169 non-null   int64 \n",
      " 1   ID_cliente      6169 non-null   int64 \n",
      " 2   ciudad          6169 non-null   object\n",
      " 3   estado          6169 non-null   object\n",
      " 4   region          6169 non-null   object\n",
      " 5   edad            6169 non-null   int64 \n",
      " 6   sexo_biologico  6169 non-null   object\n",
      " 7   cashback        6169 non-null   object\n",
      " 8   nota            6169 non-null   int64 \n",
      "dtypes: int64(4), object(5)\n",
      "memory usage: 433.9+ KB\n"
     ]
    }
   ],
   "source": [
    "clientes.info()"
   ]
  },
  {
   "cell_type": "code",
   "execution_count": 10,
   "id": "bf224f26-ad22-4392-9619-963bc9f18feb",
   "metadata": {},
   "outputs": [
    {
     "data": {
      "text/html": [
       "<div>\n",
       "<style scoped>\n",
       "    .dataframe tbody tr th:only-of-type {\n",
       "        vertical-align: middle;\n",
       "    }\n",
       "\n",
       "    .dataframe tbody tr th {\n",
       "        vertical-align: top;\n",
       "    }\n",
       "\n",
       "    .dataframe thead th {\n",
       "        text-align: right;\n",
       "    }\n",
       "</style>\n",
       "<table border=\"1\" class=\"dataframe\">\n",
       "  <thead>\n",
       "    <tr style=\"text-align: right;\">\n",
       "      <th></th>\n",
       "      <th>ID_compra</th>\n",
       "      <th>ID_cliente</th>\n",
       "      <th>edad</th>\n",
       "      <th>nota</th>\n",
       "    </tr>\n",
       "  </thead>\n",
       "  <tbody>\n",
       "    <tr>\n",
       "      <th>count</th>\n",
       "      <td>6169.000000</td>\n",
       "      <td>6169.000000</td>\n",
       "      <td>6169.000000</td>\n",
       "      <td>6169.000000</td>\n",
       "    </tr>\n",
       "    <tr>\n",
       "      <th>mean</th>\n",
       "      <td>3085.000000</td>\n",
       "      <td>5461.475280</td>\n",
       "      <td>38.260010</td>\n",
       "      <td>8.443670</td>\n",
       "    </tr>\n",
       "    <tr>\n",
       "      <th>std</th>\n",
       "      <td>1780.981237</td>\n",
       "      <td>2610.959977</td>\n",
       "      <td>9.838951</td>\n",
       "      <td>1.730584</td>\n",
       "    </tr>\n",
       "    <tr>\n",
       "      <th>min</th>\n",
       "      <td>1.000000</td>\n",
       "      <td>1005.000000</td>\n",
       "      <td>18.000000</td>\n",
       "      <td>0.000000</td>\n",
       "    </tr>\n",
       "    <tr>\n",
       "      <th>25%</th>\n",
       "      <td>1543.000000</td>\n",
       "      <td>3148.000000</td>\n",
       "      <td>31.000000</td>\n",
       "      <td>8.000000</td>\n",
       "    </tr>\n",
       "    <tr>\n",
       "      <th>50%</th>\n",
       "      <td>3085.000000</td>\n",
       "      <td>5436.000000</td>\n",
       "      <td>38.000000</td>\n",
       "      <td>9.000000</td>\n",
       "    </tr>\n",
       "    <tr>\n",
       "      <th>75%</th>\n",
       "      <td>4627.000000</td>\n",
       "      <td>7748.000000</td>\n",
       "      <td>45.000000</td>\n",
       "      <td>9.000000</td>\n",
       "    </tr>\n",
       "    <tr>\n",
       "      <th>max</th>\n",
       "      <td>6169.000000</td>\n",
       "      <td>9999.000000</td>\n",
       "      <td>70.000000</td>\n",
       "      <td>10.000000</td>\n",
       "    </tr>\n",
       "  </tbody>\n",
       "</table>\n",
       "</div>"
      ],
      "text/plain": [
       "         ID_compra   ID_cliente         edad         nota\n",
       "count  6169.000000  6169.000000  6169.000000  6169.000000\n",
       "mean   3085.000000  5461.475280    38.260010     8.443670\n",
       "std    1780.981237  2610.959977     9.838951     1.730584\n",
       "min       1.000000  1005.000000    18.000000     0.000000\n",
       "25%    1543.000000  3148.000000    31.000000     8.000000\n",
       "50%    3085.000000  5436.000000    38.000000     9.000000\n",
       "75%    4627.000000  7748.000000    45.000000     9.000000\n",
       "max    6169.000000  9999.000000    70.000000    10.000000"
      ]
     },
     "execution_count": 10,
     "metadata": {},
     "output_type": "execute_result"
    }
   ],
   "source": [
    "clientes.describe()"
   ]
  },
  {
   "cell_type": "code",
   "execution_count": 11,
   "id": "0c2bb4dc-5afd-4723-98ee-ff052f48909b",
   "metadata": {},
   "outputs": [
    {
     "data": {
      "text/plain": [
       "sexo_biologico\n",
       "Femenino     3371\n",
       "Masculino    2798\n",
       "Name: count, dtype: int64"
      ]
     },
     "execution_count": 11,
     "metadata": {},
     "output_type": "execute_result"
    }
   ],
   "source": [
    "clientes['sexo_biologico'].value_counts()"
   ]
  },
  {
   "cell_type": "code",
   "execution_count": 12,
   "id": "e710f0ff-5d78-46bd-a45a-7cdbacf1bdb5",
   "metadata": {},
   "outputs": [
    {
     "data": {
      "text/plain": [
       "cashback\n",
       "No    3557\n",
       "Sí    2612\n",
       "Name: count, dtype: int64"
      ]
     },
     "execution_count": 12,
     "metadata": {},
     "output_type": "execute_result"
    }
   ],
   "source": [
    "clientes['cashback'].value_counts()"
   ]
  },
  {
   "cell_type": "markdown",
   "id": "ce02071c-0779-45ac-ae76-a29785464405",
   "metadata": {},
   "source": [
    "### **Base de ventas**"
   ]
  },
  {
   "cell_type": "markdown",
   "id": "10c5c469-9ede-4131-bcd8-e10782b79804",
   "metadata": {},
   "source": [
    "> #### <strong><font color=\"7b71ff\" size =6>Prompt:</font></strong>\n",
    "\n",
    "Ahora vamos explorar la base de ventas en formato de un DataFrame, llamado \"ventas\". Contiene datos de las ventas del comercio electrónico, que son: ID de la compra, fecha de la compra, hora de la compra, categoría del producto, precio unitario del producto, cantidad vendida, envío y el método de pago.\n",
    "\n",
    "Queremos hacer una breve exploración de los datos para comprender un poco sobre ellos. Recordando que los datos de esta base también están limpios y tratados. Construye el código para ejecutar esta etapa utilizando Python con el objetivo de conocer mejor el dataframe \"clientes\" y algunos de sus atributos."
   ]
  },
  {
   "cell_type": "markdown",
   "id": "eecaa3fe-9cfd-4bc1-add9-e7d7fb3205dc",
   "metadata": {},
   "source": [
    "# Ver las primeras 5 filas del DataFrame\n",
    "ventas.head()\n",
    "\n",
    "# Ver las últimas 5 filas del DataFrame\n",
    "ventas.tail()\n",
    "\n",
    "# Ver las dimensiones del DataFrame (número de filas y columnas)\n",
    "ventas.shape\n",
    "\n",
    "# Ver los nombres de las columnas\n",
    "ventas.columns\n",
    "\n",
    "# Ver el tipo de datos de cada columna\n",
    "ventas.dtypes\n",
    "\n",
    "# Ver información general del DataFrame\n",
    "ventas.info()\n",
    "\n",
    "# Ver estadísticas descriptivas de las columnas numéricas\n",
    "ventas.describe()\n",
    "\n",
    "# Ver estadísticas descriptivas de las columnas categóricas\n",
    "ventas.describe(include='object')\n",
    "\n",
    "# Ver cuántos valores únicos hay en cada columna\n",
    "ventas.nunique()\n",
    "\n",
    "# Ver si hay valores nulos en el DataFrame\n",
    "ventas.isnull().sum()\n",
    "\n",
    "# Ver un resumen general del DataFrame (numérico y categórico)\n",
    "ventas.describe(include='all')\n",
    "\n",
    "# Ver las categorías de productos más vendidas\n",
    "ventas['categoría del producto'].value_counts()\n",
    "\n",
    "# Ver los tipos de envío más comunes\n",
    "ventas['envío'].value_counts()\n",
    "\n",
    "# Ver los métodos de pago más utilizados\n",
    "ventas['método de pago'].value_counts()\n",
    "\n",
    "# Ver las fechas mínimas y máximas de las compras\n",
    "ventas['fecha de la compra'].min(), ventas['fecha de la compra'].max()\n",
    "\n",
    "# Ver las horas más frecuentes de compra (puede mostrar patrones de comportamiento por horario)\n",
    "ventas['hora de la compra'].value_counts().sort_index()\n"
   ]
  },
  {
   "cell_type": "code",
   "execution_count": 13,
   "id": "2b18517e-e6ae-4687-826e-242c3b07670c",
   "metadata": {},
   "outputs": [
    {
     "data": {
      "text/html": [
       "<div>\n",
       "<style scoped>\n",
       "    .dataframe tbody tr th:only-of-type {\n",
       "        vertical-align: middle;\n",
       "    }\n",
       "\n",
       "    .dataframe tbody tr th {\n",
       "        vertical-align: top;\n",
       "    }\n",
       "\n",
       "    .dataframe thead th {\n",
       "        text-align: right;\n",
       "    }\n",
       "</style>\n",
       "<table border=\"1\" class=\"dataframe\">\n",
       "  <thead>\n",
       "    <tr style=\"text-align: right;\">\n",
       "      <th></th>\n",
       "      <th>ID_compra</th>\n",
       "      <th>fecha</th>\n",
       "      <th>horario</th>\n",
       "      <th>categoria</th>\n",
       "      <th>precio_unitario</th>\n",
       "      <th>cantidad</th>\n",
       "      <th>envio</th>\n",
       "      <th>metodo_pago</th>\n",
       "    </tr>\n",
       "  </thead>\n",
       "  <tbody>\n",
       "    <tr>\n",
       "      <th>0</th>\n",
       "      <td>6</td>\n",
       "      <td>2023-01-03</td>\n",
       "      <td>20:40</td>\n",
       "      <td>Electrónicos</td>\n",
       "      <td>4457.9</td>\n",
       "      <td>4</td>\n",
       "      <td>713.26</td>\n",
       "      <td>Paypal</td>\n",
       "    </tr>\n",
       "    <tr>\n",
       "      <th>1</th>\n",
       "      <td>5</td>\n",
       "      <td>2023-01-03</td>\n",
       "      <td>21:48</td>\n",
       "      <td>Herramientas y construcción</td>\n",
       "      <td>115.9</td>\n",
       "      <td>1</td>\n",
       "      <td>0.00</td>\n",
       "      <td>Transferencia</td>\n",
       "    </tr>\n",
       "    <tr>\n",
       "      <th>2</th>\n",
       "      <td>9</td>\n",
       "      <td>2023-01-03</td>\n",
       "      <td>17:08</td>\n",
       "      <td>Belleza e higiene</td>\n",
       "      <td>68.9</td>\n",
       "      <td>2</td>\n",
       "      <td>13.78</td>\n",
       "      <td>Tarjeta de Crédito</td>\n",
       "    </tr>\n",
       "    <tr>\n",
       "      <th>3</th>\n",
       "      <td>4</td>\n",
       "      <td>2023-01-03</td>\n",
       "      <td>14:29</td>\n",
       "      <td>Herramientas y construcción</td>\n",
       "      <td>80.9</td>\n",
       "      <td>5</td>\n",
       "      <td>40.45</td>\n",
       "      <td>Transferencia</td>\n",
       "    </tr>\n",
       "    <tr>\n",
       "      <th>4</th>\n",
       "      <td>8</td>\n",
       "      <td>2023-01-03</td>\n",
       "      <td>18:02</td>\n",
       "      <td>Belleza e higiene</td>\n",
       "      <td>165.0</td>\n",
       "      <td>4</td>\n",
       "      <td>0.00</td>\n",
       "      <td>Transferencia</td>\n",
       "    </tr>\n",
       "  </tbody>\n",
       "</table>\n",
       "</div>"
      ],
      "text/plain": [
       "   ID_compra       fecha horario                    categoria  \\\n",
       "0          6  2023-01-03   20:40                 Electrónicos   \n",
       "1          5  2023-01-03   21:48  Herramientas y construcción   \n",
       "2          9  2023-01-03   17:08            Belleza e higiene   \n",
       "3          4  2023-01-03   14:29  Herramientas y construcción   \n",
       "4          8  2023-01-03   18:02            Belleza e higiene   \n",
       "\n",
       "   precio_unitario  cantidad   envio         metodo_pago  \n",
       "0           4457.9         4  713.26              Paypal  \n",
       "1            115.9         1    0.00       Transferencia  \n",
       "2             68.9         2   13.78  Tarjeta de Crédito  \n",
       "3             80.9         5   40.45       Transferencia  \n",
       "4            165.0         4    0.00       Transferencia  "
      ]
     },
     "execution_count": 13,
     "metadata": {},
     "output_type": "execute_result"
    }
   ],
   "source": [
    "ventas.head()"
   ]
  },
  {
   "cell_type": "code",
   "execution_count": 14,
   "id": "913252f0-b1c9-43c4-aa3f-7751620cc987",
   "metadata": {},
   "outputs": [
    {
     "name": "stdout",
     "output_type": "stream",
     "text": [
      "<class 'pandas.core.frame.DataFrame'>\n",
      "RangeIndex: 6169 entries, 0 to 6168\n",
      "Data columns (total 8 columns):\n",
      " #   Column           Non-Null Count  Dtype  \n",
      "---  ------           --------------  -----  \n",
      " 0   ID_compra        6169 non-null   int64  \n",
      " 1   fecha            6169 non-null   object \n",
      " 2   horario          6169 non-null   object \n",
      " 3   categoria        6169 non-null   object \n",
      " 4   precio_unitario  6169 non-null   float64\n",
      " 5   cantidad         6169 non-null   int64  \n",
      " 6   envio            6169 non-null   float64\n",
      " 7   metodo_pago      6169 non-null   object \n",
      "dtypes: float64(2), int64(2), object(4)\n",
      "memory usage: 385.7+ KB\n"
     ]
    }
   ],
   "source": [
    "ventas.info()"
   ]
  },
  {
   "cell_type": "code",
   "execution_count": 15,
   "id": "667e3734-6c61-4c85-805a-878ae2f53f17",
   "metadata": {},
   "outputs": [],
   "source": [
    "ventas['fecha'] = pd.to_datetime(ventas['fecha'], format='%Y-%m-%d')"
   ]
  },
  {
   "cell_type": "code",
   "execution_count": 16,
   "id": "be9f31e2-4cc8-4ecb-9620-218ef4792bac",
   "metadata": {},
   "outputs": [
    {
     "name": "stdout",
     "output_type": "stream",
     "text": [
      "<class 'pandas.core.frame.DataFrame'>\n",
      "RangeIndex: 6169 entries, 0 to 6168\n",
      "Data columns (total 8 columns):\n",
      " #   Column           Non-Null Count  Dtype         \n",
      "---  ------           --------------  -----         \n",
      " 0   ID_compra        6169 non-null   int64         \n",
      " 1   fecha            6169 non-null   datetime64[ns]\n",
      " 2   horario          6169 non-null   object        \n",
      " 3   categoria        6169 non-null   object        \n",
      " 4   precio_unitario  6169 non-null   float64       \n",
      " 5   cantidad         6169 non-null   int64         \n",
      " 6   envio            6169 non-null   float64       \n",
      " 7   metodo_pago      6169 non-null   object        \n",
      "dtypes: datetime64[ns](1), float64(2), int64(2), object(3)\n",
      "memory usage: 385.7+ KB\n"
     ]
    }
   ],
   "source": [
    "ventas.info()"
   ]
  },
  {
   "cell_type": "code",
   "execution_count": 17,
   "id": "2d5394c4-3730-4754-834f-960f98f2ee27",
   "metadata": {},
   "outputs": [
    {
     "data": {
      "text/html": [
       "<div>\n",
       "<style scoped>\n",
       "    .dataframe tbody tr th:only-of-type {\n",
       "        vertical-align: middle;\n",
       "    }\n",
       "\n",
       "    .dataframe tbody tr th {\n",
       "        vertical-align: top;\n",
       "    }\n",
       "\n",
       "    .dataframe thead th {\n",
       "        text-align: right;\n",
       "    }\n",
       "</style>\n",
       "<table border=\"1\" class=\"dataframe\">\n",
       "  <thead>\n",
       "    <tr style=\"text-align: right;\">\n",
       "      <th></th>\n",
       "      <th>ID_compra</th>\n",
       "      <th>fecha</th>\n",
       "      <th>precio_unitario</th>\n",
       "      <th>cantidad</th>\n",
       "      <th>envio</th>\n",
       "    </tr>\n",
       "  </thead>\n",
       "  <tbody>\n",
       "    <tr>\n",
       "      <th>count</th>\n",
       "      <td>6169.000000</td>\n",
       "      <td>6169</td>\n",
       "      <td>6169.000000</td>\n",
       "      <td>6169.000000</td>\n",
       "      <td>6169.000000</td>\n",
       "    </tr>\n",
       "    <tr>\n",
       "      <th>mean</th>\n",
       "      <td>3085.000000</td>\n",
       "      <td>2023-08-20 00:12:22.292105984</td>\n",
       "      <td>873.234738</td>\n",
       "      <td>3.004863</td>\n",
       "      <td>119.233832</td>\n",
       "    </tr>\n",
       "    <tr>\n",
       "      <th>min</th>\n",
       "      <td>1.000000</td>\n",
       "      <td>2023-01-03 00:00:00</td>\n",
       "      <td>2.900000</td>\n",
       "      <td>1.000000</td>\n",
       "      <td>0.000000</td>\n",
       "    </tr>\n",
       "    <tr>\n",
       "      <th>25%</th>\n",
       "      <td>1543.000000</td>\n",
       "      <td>2023-05-30 00:00:00</td>\n",
       "      <td>44.900000</td>\n",
       "      <td>2.000000</td>\n",
       "      <td>0.320000</td>\n",
       "    </tr>\n",
       "    <tr>\n",
       "      <th>50%</th>\n",
       "      <td>3085.000000</td>\n",
       "      <td>2023-08-31 00:00:00</td>\n",
       "      <td>93.900000</td>\n",
       "      <td>3.000000</td>\n",
       "      <td>7.550000</td>\n",
       "    </tr>\n",
       "    <tr>\n",
       "      <th>75%</th>\n",
       "      <td>4627.000000</td>\n",
       "      <td>2023-11-23 00:00:00</td>\n",
       "      <td>221.900000</td>\n",
       "      <td>4.000000</td>\n",
       "      <td>29.240000</td>\n",
       "    </tr>\n",
       "    <tr>\n",
       "      <th>max</th>\n",
       "      <td>6169.000000</td>\n",
       "      <td>2023-12-31 00:00:00</td>\n",
       "      <td>8000.000000</td>\n",
       "      <td>5.000000</td>\n",
       "      <td>4521.540000</td>\n",
       "    </tr>\n",
       "    <tr>\n",
       "      <th>std</th>\n",
       "      <td>1780.981237</td>\n",
       "      <td>NaN</td>\n",
       "      <td>1852.064342</td>\n",
       "      <td>1.420725</td>\n",
       "      <td>366.149225</td>\n",
       "    </tr>\n",
       "  </tbody>\n",
       "</table>\n",
       "</div>"
      ],
      "text/plain": [
       "         ID_compra                          fecha  precio_unitario  \\\n",
       "count  6169.000000                           6169      6169.000000   \n",
       "mean   3085.000000  2023-08-20 00:12:22.292105984       873.234738   \n",
       "min       1.000000            2023-01-03 00:00:00         2.900000   \n",
       "25%    1543.000000            2023-05-30 00:00:00        44.900000   \n",
       "50%    3085.000000            2023-08-31 00:00:00        93.900000   \n",
       "75%    4627.000000            2023-11-23 00:00:00       221.900000   \n",
       "max    6169.000000            2023-12-31 00:00:00      8000.000000   \n",
       "std    1780.981237                            NaN      1852.064342   \n",
       "\n",
       "          cantidad        envio  \n",
       "count  6169.000000  6169.000000  \n",
       "mean      3.004863   119.233832  \n",
       "min       1.000000     0.000000  \n",
       "25%       2.000000     0.320000  \n",
       "50%       3.000000     7.550000  \n",
       "75%       4.000000    29.240000  \n",
       "max       5.000000  4521.540000  \n",
       "std       1.420725   366.149225  "
      ]
     },
     "execution_count": 17,
     "metadata": {},
     "output_type": "execute_result"
    }
   ],
   "source": [
    "ventas.describe()"
   ]
  },
  {
   "cell_type": "markdown",
   "id": "7f40901f-cd6f-4d77-8e54-90de3906172c",
   "metadata": {},
   "source": [
    "## **1.4 - Tipos de gráficos**\n",
    "\n",
    "---"
   ]
  },
  {
   "cell_type": "markdown",
   "id": "fbe73ef8-04ab-4d93-bacc-11a50ea78204",
   "metadata": {},
   "source": [
    "Ya hemos explorado un poco de las dos bases del proyecto y obtuvimos algunos insights interesantes que pueden ser importantes en la construcción de nuestras visualizaciones.\n",
    "\n",
    "Ahora, intentemos simplificar nuestro análisis consolidando los datos en una única tabla para, a partir de ahí, enfocarnos en las posibilidades de visuales combinando los datos. ¿Podrá GPT ayudarnos aquí?"
   ]
  },
  {
   "cell_type": "markdown",
   "id": "3fee4555-f393-42c2-8875-09b7ec516bc5",
   "metadata": {},
   "source": [
    "> #### <strong><font color=\"7b71ff\" size =6>Prompt:</font></strong>\n",
    "\n",
    "Ahora vamos a unir las dos bases de nuestro proyecto en una sola utilizando como llave la columna \"ID_compra\". Además, organizaremos las columnas en la siguiente secuencia:\n",
    "\n",
    "* ID_compra\n",
    "* fecha\n",
    "* horario\n",
    "* categoria\n",
    "* precio_unitario\n",
    "* cantidad\n",
    "* envio\n",
    "* metodo_pago\n",
    "* ID_cliente\n",
    "* edad\n",
    "* sexo_biologico\n",
    "* ciudad\n",
    "* estado\n",
    "* region\n",
    "* cashback\n",
    "* nota\n",
    "\n",
    "Construye un código para ejecutar esta etapa usando Python y la biblioteca Pandas.\n"
   ]
  },
  {
   "cell_type": "code",
   "execution_count": 18,
   "id": "b8049af5-7541-4863-85e3-02b7ab7c1225",
   "metadata": {},
   "outputs": [
    {
     "data": {
      "text/html": [
       "<div>\n",
       "<style scoped>\n",
       "    .dataframe tbody tr th:only-of-type {\n",
       "        vertical-align: middle;\n",
       "    }\n",
       "\n",
       "    .dataframe tbody tr th {\n",
       "        vertical-align: top;\n",
       "    }\n",
       "\n",
       "    .dataframe thead th {\n",
       "        text-align: right;\n",
       "    }\n",
       "</style>\n",
       "<table border=\"1\" class=\"dataframe\">\n",
       "  <thead>\n",
       "    <tr style=\"text-align: right;\">\n",
       "      <th></th>\n",
       "      <th>ID_compra</th>\n",
       "      <th>fecha</th>\n",
       "      <th>horario</th>\n",
       "      <th>categoria</th>\n",
       "      <th>precio_unitario</th>\n",
       "      <th>cantidad</th>\n",
       "      <th>envio</th>\n",
       "      <th>metodo_pago</th>\n",
       "      <th>ID_cliente</th>\n",
       "      <th>edad</th>\n",
       "      <th>sexo_biologico</th>\n",
       "      <th>ciudad</th>\n",
       "      <th>estado</th>\n",
       "      <th>region</th>\n",
       "      <th>cashback</th>\n",
       "      <th>nota</th>\n",
       "    </tr>\n",
       "  </thead>\n",
       "  <tbody>\n",
       "    <tr>\n",
       "      <th>0</th>\n",
       "      <td>6</td>\n",
       "      <td>2023-01-03</td>\n",
       "      <td>20:40</td>\n",
       "      <td>Electrónicos</td>\n",
       "      <td>4457.9</td>\n",
       "      <td>4</td>\n",
       "      <td>713.26</td>\n",
       "      <td>Paypal</td>\n",
       "      <td>6149</td>\n",
       "      <td>30</td>\n",
       "      <td>Masculino</td>\n",
       "      <td>Hermosillo</td>\n",
       "      <td>Sonora</td>\n",
       "      <td>Noroeste</td>\n",
       "      <td>Sí</td>\n",
       "      <td>10</td>\n",
       "    </tr>\n",
       "    <tr>\n",
       "      <th>1</th>\n",
       "      <td>5</td>\n",
       "      <td>2023-01-03</td>\n",
       "      <td>21:48</td>\n",
       "      <td>Herramientas y construcción</td>\n",
       "      <td>115.9</td>\n",
       "      <td>1</td>\n",
       "      <td>0.00</td>\n",
       "      <td>Transferencia</td>\n",
       "      <td>9491</td>\n",
       "      <td>36</td>\n",
       "      <td>Masculino</td>\n",
       "      <td>Ciudad de México</td>\n",
       "      <td>Ciudad de México</td>\n",
       "      <td>Centro</td>\n",
       "      <td>Sí</td>\n",
       "      <td>8</td>\n",
       "    </tr>\n",
       "    <tr>\n",
       "      <th>2</th>\n",
       "      <td>9</td>\n",
       "      <td>2023-01-03</td>\n",
       "      <td>17:08</td>\n",
       "      <td>Belleza e higiene</td>\n",
       "      <td>68.9</td>\n",
       "      <td>2</td>\n",
       "      <td>13.78</td>\n",
       "      <td>Tarjeta de Crédito</td>\n",
       "      <td>5288</td>\n",
       "      <td>39</td>\n",
       "      <td>Femenino</td>\n",
       "      <td>Aguascalientes</td>\n",
       "      <td>Aguascalientes</td>\n",
       "      <td>Centro-Norte</td>\n",
       "      <td>No</td>\n",
       "      <td>7</td>\n",
       "    </tr>\n",
       "    <tr>\n",
       "      <th>3</th>\n",
       "      <td>4</td>\n",
       "      <td>2023-01-03</td>\n",
       "      <td>14:29</td>\n",
       "      <td>Herramientas y construcción</td>\n",
       "      <td>80.9</td>\n",
       "      <td>5</td>\n",
       "      <td>40.45</td>\n",
       "      <td>Transferencia</td>\n",
       "      <td>9679</td>\n",
       "      <td>35</td>\n",
       "      <td>Masculino</td>\n",
       "      <td>Veracruz</td>\n",
       "      <td>Veracruz</td>\n",
       "      <td>Golfo</td>\n",
       "      <td>Sí</td>\n",
       "      <td>9</td>\n",
       "    </tr>\n",
       "    <tr>\n",
       "      <th>4</th>\n",
       "      <td>8</td>\n",
       "      <td>2023-01-03</td>\n",
       "      <td>18:02</td>\n",
       "      <td>Belleza e higiene</td>\n",
       "      <td>165.0</td>\n",
       "      <td>4</td>\n",
       "      <td>0.00</td>\n",
       "      <td>Transferencia</td>\n",
       "      <td>1380</td>\n",
       "      <td>50</td>\n",
       "      <td>Masculino</td>\n",
       "      <td>Ciudad de México</td>\n",
       "      <td>Ciudad de México</td>\n",
       "      <td>Centro</td>\n",
       "      <td>No</td>\n",
       "      <td>9</td>\n",
       "    </tr>\n",
       "  </tbody>\n",
       "</table>\n",
       "</div>"
      ],
      "text/plain": [
       "   ID_compra      fecha horario                    categoria  precio_unitario  \\\n",
       "0          6 2023-01-03   20:40                 Electrónicos           4457.9   \n",
       "1          5 2023-01-03   21:48  Herramientas y construcción            115.9   \n",
       "2          9 2023-01-03   17:08            Belleza e higiene             68.9   \n",
       "3          4 2023-01-03   14:29  Herramientas y construcción             80.9   \n",
       "4          8 2023-01-03   18:02            Belleza e higiene            165.0   \n",
       "\n",
       "   cantidad   envio         metodo_pago  ID_cliente  edad sexo_biologico  \\\n",
       "0         4  713.26              Paypal        6149    30      Masculino   \n",
       "1         1    0.00       Transferencia        9491    36      Masculino   \n",
       "2         2   13.78  Tarjeta de Crédito        5288    39       Femenino   \n",
       "3         5   40.45       Transferencia        9679    35      Masculino   \n",
       "4         4    0.00       Transferencia        1380    50      Masculino   \n",
       "\n",
       "             ciudad            estado        region cashback  nota  \n",
       "0        Hermosillo            Sonora      Noroeste       Sí    10  \n",
       "1  Ciudad de México  Ciudad de México        Centro       Sí     8  \n",
       "2    Aguascalientes    Aguascalientes  Centro-Norte       No     7  \n",
       "3          Veracruz          Veracruz         Golfo       Sí     9  \n",
       "4  Ciudad de México  Ciudad de México        Centro       No     9  "
      ]
     },
     "execution_count": 18,
     "metadata": {},
     "output_type": "execute_result"
    }
   ],
   "source": [
    "# Unir los DataFrames usando la columna 'ID_compra' como llave\n",
    "\n",
    "df = pd.merge(ventas, clientes, on='ID_compra', how='inner')\n",
    "\n",
    "# Reordenar las columnas\n",
    "\n",
    "df = df[[\n",
    "    'ID_compra',\n",
    "    'fecha',\n",
    "    'horario',\n",
    "    'categoria',\n",
    "    'precio_unitario',\n",
    "    'cantidad',\n",
    "    'envio',\n",
    "    'metodo_pago',\n",
    "    'ID_cliente',\n",
    "    'edad',\n",
    "    'sexo_biologico',\n",
    "    'ciudad',\n",
    "    'estado',\n",
    "    'region',\n",
    "    'cashback',\n",
    "    'nota'\n",
    "]]\n",
    "\n",
    "# Mostrar las primeras filas del DataFrame unificado\n",
    "\n",
    "df.head()"
   ]
  },
  {
   "cell_type": "markdown",
   "id": "bc74712a-065b-4f4b-91c5-75e36ced085b",
   "metadata": {},
   "source": [
    "Ahora le pediremos a ChatGPT ideas de visuales que podamos contruir con esos datos"
   ]
  },
  {
   "cell_type": "markdown",
   "id": "af3ab638-df66-482b-af2d-b622776a101e",
   "metadata": {},
   "source": [
    "> #### <strong><font color=\"7b71ff\" size =6>Prompt:</font></strong>\n",
    "\n",
    "Ahora con nuestro \"df\" ya construido a partir de las dos bases del proyecto, vamos a iniciar un nuevo proceso. Queremos comenzar la etapa de generación de visuales que puedan ayudar en el análisis de la facturación a lo largo del año, el perfil del cliente y otros datos que puedan ser relevantes para el análisis y la construcción de nuestra narrativa.\n",
    "\n",
    "Las columnas de \"df\" son:\n",
    "\n",
    "* ID_compra: número único asignado a la compra realizada, en formato int\n",
    "* fecha: fecha de la compra, en formato datetime\n",
    "* horario: hora de la compra, en formato object\n",
    "* categoria: categoría del producto, en formato object\n",
    "* precio_unitario: precio de una unidad del producto, en formato float\n",
    "* cantidad: cantidad vendida del producto, en formato int\n",
    "* envio: costo de envío a ser pagado en total de la compra, en formato float\n",
    "* metodo_pago: método de pago de la compra, en formato object\n",
    "* ID_cliente: número único asignado al cliente, en formato int\n",
    "* edad: edad del cliente, en formato int\n",
    "* sexo_biologico: sexo biológico del cliente, en formato object\n",
    "* ciudad: ciudad del cliente, en formato object\n",
    "* estado: estado del cliente, en formato object\n",
    "* region: región del cliente, en formato object\n",
    "* cashback: si el cliente participa o no en el programa de cashback de la tienda, en formato object\n",
    "* nota: evaluación del cliente por la compra, en formato int\n",
    "\n",
    "El objetivo es abstraer y buscar relaciones para construir visualizaciones interesantes para el análisis de los datos de los clientes y ventas de Zoop.\n",
    "\n",
    "Con base en la información proporcionada, ¿qué tipos de visualizaciones serían útiles para alcanzar el objetivo de analizar los datos?"
   ]
  },
  {
   "cell_type": "markdown",
   "id": "1d4df423-2351-416e-ae2a-5c8685846c5e",
   "metadata": {},
   "source": [
    "---\n",
    "---\n",
    "## **Sugerencias de visualizaciones Chat-GPT**"
   ]
  },
  {
   "cell_type": "markdown",
   "id": "c755edd9-3bb0-4043-bdc0-a8bf0222f93d",
   "metadata": {},
   "source": [
    "🧾 Facturación y ventas a lo largo del tiempo\n",
    "Facturación mensual\n",
    "\n",
    "Gráfico de líneas: total facturado por mes.\n",
    "\n",
    "Objetivo: identificar estacionalidad, picos o caídas en ventas.\n",
    "\n",
    "Cálculo: precio_unitario * cantidad + envio.\n",
    "\n",
    "Cantidad de ventas por mes\n",
    "\n",
    "Gráfico de barras o líneas.\n",
    "\n",
    "Objetivo: ver si los ingresos están correlacionados con volumen de ventas o con ticket promedio.\n",
    "\n",
    "Ingresos por categoría de producto (mensual o anual)\n",
    "\n",
    "Gráfico de barras apiladas o de área.\n",
    "\n",
    "Objetivo: identificar qué categorías generan más ingresos y cómo evolucionan.\n",
    "\n",
    "👥 Perfil del cliente\n",
    "Distribución de edad de los clientes\n",
    "\n",
    "Histograma o gráfico de densidad.\n",
    "\n",
    "Objetivo: entender los rangos de edad predominantes.\n",
    "\n",
    "Distribución por sexo biológico\n",
    "\n",
    "Gráfico de torta o barras.\n",
    "\n",
    "Objetivo: saber si hay un sesgo en el perfil de cliente según género.\n",
    "\n",
    "Participación en el programa de cashback por perfil\n",
    "\n",
    "Barras agrupadas por edad, sexo o región vs. participación en cashback.\n",
    "\n",
    "Objetivo: identificar qué tipo de cliente valora más el cashback.\n",
    "\n",
    "🌎 Análisis geográfico\n",
    "Facturación por región o estado\n",
    "\n",
    "Gráfico de barras o mapa (si usas geopandas/plotly).\n",
    "\n",
    "Objetivo: ver qué regiones aportan más al negocio.\n",
    "\n",
    "Número de compras por ciudad\n",
    "\n",
    "Gráfico de barras.\n",
    "\n",
    "Objetivo: identificar ciudades con mayor volumen de compras.\n",
    "\n",
    "💳 Métodos de pago y comportamiento de compra\n",
    "Distribución de métodos de pago\n",
    "\n",
    "Gráfico de torta o barras.\n",
    "\n",
    "Objetivo: entender preferencias de pago.\n",
    "\n",
    "Método de pago vs. ticket promedio\n",
    "\n",
    "Boxplot por método de pago.\n",
    "\n",
    "Objetivo: ver si algunos métodos se usan para compras más caras.\n",
    "\n",
    "⏰ Comportamiento según horario\n",
    "Compras por hora del día\n",
    "\n",
    "Gráfico de líneas o barras.\n",
    "\n",
    "Objetivo: identificar horas pico de compra.\n",
    "\n",
    "Nota promedio según horario o categoría\n",
    "\n",
    "Heatmap.\n",
    "\n",
    "Objetivo: detectar patrones de satisfacción según contexto de compra.\n",
    "\n",
    "⭐ Satisfacción del cliente\n",
    "Distribución de notas\n",
    "\n",
    "Histograma o gráfico de barras.\n",
    "\n",
    "Objetivo: medir la satisfacción general.\n",
    "\n",
    "Nota promedio por categoría\n",
    "\n",
    "Barras.\n",
    "\n",
    "Objetivo: saber qué productos generan mejores experiencias.\n",
    "\n",
    "🔁 Relaciones cruzadas\n",
    "Edad vs. nota\n",
    "\n",
    "Diagrama de dispersión.\n",
    "\n",
    "Objetivo: saber si la edad influye en la satisfacción.\n",
    "\n",
    "Cantidad vs. nota\n",
    "\n",
    "Dispersión.\n",
    "\n",
    "Objetivo: ver si la satisfacción cambia con la cantidad comprada.\n",
    "\n",
    "Ticket promedio por grupo (sexo, región, cashback)\n",
    "\n",
    "Barras.\n",
    "\n",
    "Objetivo: encontrar patrones de valor por cliente.\n",
    "\n",
    "Extra (opcional si tienes tiempo)\n",
    "Dashboards con múltiples visualizaciones usando Plotly, Seaborn, Matplotlib o Power BI"
   ]
  },
  {
   "cell_type": "markdown",
   "id": "07a403f9-2470-4b25-9371-de3fe212a09f",
   "metadata": {},
   "source": [
    "# **Clase 2 - Visualizando los dados**"
   ]
  },
  {
   "cell_type": "markdown",
   "id": "da17999b-bac5-4c27-a760-1fb5e7a80f56",
   "metadata": {},
   "source": [
    "ChatGPT trajo algunas ideas interesantes para la creación de los gráficos.\n",
    "\n",
    "Sin embargo, como ya tenemos algunas preguntas para guiarnos en la creación de los visuales, no vamos a seguir todas las sugerencias aquí mencionadas.\n",
    "\n",
    "Queda como una sugerencia para ayudarte cuando estés trabajando con otras bases y tengas dificultades para pensar en qué visualizaciones podrías construir.\n",
    "\n",
    "**Observación:** Recordando que es muy probable que los gráficos que se me señalaron, no sean necesariamente los mismos que aparecerán para ti, dado a la aleatoriedad de las respuestas de cualquier IA generativa."
   ]
  },
  {
   "cell_type": "markdown",
   "id": "6848c253-cc71-4dd6-8b2a-f609a9373862",
   "metadata": {},
   "source": [
    "## **2.1 - Definiendo los visualizaciones**\n",
    "\n",
    "---"
   ]
  },
  {
   "cell_type": "markdown",
   "id": "27b91459-66de-4148-a270-2dfca63e58a1",
   "metadata": {},
   "source": [
    "Después de la etapa de exploración de los datos, vamos a leer las preguntas que se plantearon en la demanda que recibimos. Así, comenzaremos a pensar en los visuales que vamos a construir con la ayuda de la IA.\n",
    "\n",
    "### **Preguntas**\n",
    "\n",
    "#### Ventas\n",
    "\n",
    "1. ¿Cuáles fueron los métodos de pago más utilizados en 2023?\n",
    "2. ¿Cuál fue la facturación por categoría en 2023?\n",
    "3. ¿Cómo fueron las ventas a lo largo de los meses en 2023?\n",
    "4. ¿Cómo se divide la venta por trimestre por método de pago? ¿Existe un período en que algún tipo de pago se destaca?\n",
    "\n",
    "\n",
    "#### Perfil del cliente\n",
    "\n",
    "5. ¿Cuál es la proporción de la clientela que participa en nuestro programa de cashback?\n",
    "6. ¿Cómo están distribuidas las evaluaciones del producto? ¿Tenemos buenos números generales?\n",
    "7. ¿Cómo se distribuye nuestro público por edad y sexo biológico? ¿Existe un grupo que se destaca?\n",
    "\n",
    "Inicialmente, vamos a hacer la primera versión de los gráficos, aún no refinados con los elementos visuales, para más adelante ir añadiendo las diversas técnicas de storytelling."
   ]
  },
  {
   "cell_type": "markdown",
   "id": "90d320bc-13fd-4955-aa67-6be6c001dfb3",
   "metadata": {},
   "source": [
    "### **1ra Pregunta:** ¿Cuáles fueron los métodos de pago más utilizados en 2023?"
   ]
  },
  {
   "cell_type": "markdown",
   "id": "b4e7fe38-44c6-45c1-9127-55e1ed4a2e11",
   "metadata": {},
   "source": [
    "Le vamos pedir a ChatGPT que nos auxilie en la construcción de este visual. Primero, trataremos los datos generando una tabla resumida (que también es una especie de visual) y luego construiremos el primer gráfico."
   ]
  },
  {
   "cell_type": "markdown",
   "id": "b955dd47-8533-482e-8d3d-d9068fe06e5c",
   "metadata": {},
   "source": [
    "> #### <strong><font color=\"7b71ff\" size=6>Prompt:</font></strong>\n",
    "\n",
    "Tenemos un DataFrame llamado \"df\" y queremos construir un visual que presente cuáles métodos de pago fueron los más utilizados.\n",
    "\n",
    "En \"df\", tenemos la columna \"metodo_pago\" con los 4 tipos de pago utilizados en la compra.\n",
    "\n",
    "Inicialmente, queremos construir una tabla llamada \"metodos_de_pago\" que resuma los datos de esta columna y, a continuación, deseamos crear una visualización que muestre la cantidad de esos métodos de pago presentes en la tabla \"metodo_pago\".\n",
    "\n",
    "Utiliza las bibliotecas de visualización de datos de Python para crear esta visualización.\n"
   ]
  },
  {
   "cell_type": "code",
   "execution_count": 19,
   "id": "b151a556-3718-4b37-b0e2-05382cee8e72",
   "metadata": {},
   "outputs": [
    {
     "data": {
      "text/html": [
       "<div>\n",
       "<style scoped>\n",
       "    .dataframe tbody tr th:only-of-type {\n",
       "        vertical-align: middle;\n",
       "    }\n",
       "\n",
       "    .dataframe tbody tr th {\n",
       "        vertical-align: top;\n",
       "    }\n",
       "\n",
       "    .dataframe thead th {\n",
       "        text-align: right;\n",
       "    }\n",
       "</style>\n",
       "<table border=\"1\" class=\"dataframe\">\n",
       "  <thead>\n",
       "    <tr style=\"text-align: right;\">\n",
       "      <th></th>\n",
       "      <th>metodo_pago</th>\n",
       "      <th>cantidad</th>\n",
       "    </tr>\n",
       "  </thead>\n",
       "  <tbody>\n",
       "    <tr>\n",
       "      <th>0</th>\n",
       "      <td>Tarjeta de Crédito</td>\n",
       "      <td>2851</td>\n",
       "    </tr>\n",
       "    <tr>\n",
       "      <th>1</th>\n",
       "      <td>Transferencia</td>\n",
       "      <td>2244</td>\n",
       "    </tr>\n",
       "    <tr>\n",
       "      <th>2</th>\n",
       "      <td>Tarjeta de Débito</td>\n",
       "      <td>547</td>\n",
       "    </tr>\n",
       "    <tr>\n",
       "      <th>3</th>\n",
       "      <td>Paypal</td>\n",
       "      <td>527</td>\n",
       "    </tr>\n",
       "  </tbody>\n",
       "</table>\n",
       "</div>"
      ],
      "text/plain": [
       "          metodo_pago  cantidad\n",
       "0  Tarjeta de Crédito      2851\n",
       "1       Transferencia      2244\n",
       "2   Tarjeta de Débito       547\n",
       "3              Paypal       527"
      ]
     },
     "execution_count": 19,
     "metadata": {},
     "output_type": "execute_result"
    }
   ],
   "source": [
    "# Crear la tabla resumen\n",
    "metodos_de_pago = df['metodo_pago'].value_counts().reset_index()\n",
    "metodos_de_pago.columns = ['metodo_pago', 'cantidad']\n",
    "metodos_de_pago"
   ]
  },
  {
   "cell_type": "code",
   "execution_count": 23,
   "id": "8c3c5c63-db87-4a99-a45c-2832435e0d70",
   "metadata": {},
   "outputs": [
    {
     "data": {
      "image/png": "[encoded data removed]",
      "text/plain": [
       "<Figure size 800x600 with 1 Axes>"
      ]
     },
     "metadata": {},
     "output_type": "display_data"
    }
   ],
   "source": [
    "# Visualización\n",
    "plt.figure(figsize=(8, 6))\n",
    "sns.barplot(data=metodos_de_pago, x='metodo_pago', y='cantidad', palette='Spectral')\n",
    "plt.title('Métodos de Pago Más Utilizados')\n",
    "plt.xlabel('Método de Pago')\n",
    "plt.ylabel('Cantidad')\n",
    "plt.xticks(rotation=45)\n",
    "plt.tight_layout()\n",
    "plt.show()"
   ]
  },
  {
   "cell_type": "markdown",
   "id": "88ebde95-e403-4ab8-954e-4419807bcc9f",
   "metadata": {},
   "source": [
    "\n",
    "<font color=\"7b71ff\" size=4> Comentarios: </font>\n",
    "\n",
    "---\n",
    "\n",
    "Podemos observar que, incluso sin especificar el tipo de gráfico, por la forma en que presentamos los datos a ChatGPT, logró representar con éxito un visual que muestra la información deseada. Un gráfico de barras es realmente ideal para representar las cantidades de una o más categorías de datos.\n",
    "\n",
    "Iremos ajustando poco a poco los visuales para que se adecuen a nuestro público y reflejen la identidad visual de la empresa."
   ]
  },
  {
   "cell_type": "markdown",
   "id": "5f36d536-7540-4b89-a40b-43aea809cfe9",
   "metadata": {},
   "source": [
    "## **2.2 - Comparando los datos**\n",
    "\n",
    "---"
   ]
  },
  {
   "cell_type": "markdown",
   "id": "e252fea2-eda3-44c3-b69e-45e0d4d89a20",
   "metadata": {},
   "source": [
    "### **2da Pregunta:** ¿Cuál fue la facturación por categoria em 2023?"
   ]
  },
  {
   "cell_type": "markdown",
   "id": "61b88538-22e7-42c8-b32b-24701b56cf6c",
   "metadata": {},
   "source": [
    "**Observación:** Para la facturación, consideraremos aquí el producto entre el precio unitario y la cantidad, sumados al costo de envío de cada producto."
   ]
  },
  {
   "cell_type": "markdown",
   "id": "c86a8cdf-3b30-4716-8af0-98e7512c964d",
   "metadata": {},
   "source": [
    "> #### <strong><font color=\"7b71ff\" size=6>Prompt:</font></strong>\n",
    "\n",
    "Tenemos un DataFrame llamado \"df\" y queremos construir un gráfico de barras horizontales que muestre la facturación por categoría de Zoop.\n",
    "\n",
    "En \"df\", tenemos las siguientes columnas:\n",
    "* categoria: categorías de los productos\n",
    "* precio_unitario: precio de una unidad del producto\n",
    "* cantidad: cantidad vendida del producto\n",
    "* envio: costo de envío total de la compra.\n",
    "\n",
    "Deseamos crear una visualización que muestre la facturación de cada categoría, donde la facturación se calcula multiplicando el precio unitario por la cantidad y sumando el costo de envío.\n",
    "\n",
    "Utiliza las bibliotecas de visualización de datos de Python para crear esta visualización."
   ]
  },
  {
   "cell_type": "code",
   "execution_count": 27,
   "id": "a1f6d25b-5ba8-4c85-a5c0-805086653e6e",
   "metadata": {},
   "outputs": [
    {
     "data": {
      "text/html": [
       "<div>\n",
       "<style scoped>\n",
       "    .dataframe tbody tr th:only-of-type {\n",
       "        vertical-align: middle;\n",
       "    }\n",
       "\n",
       "    .dataframe tbody tr th {\n",
       "        vertical-align: top;\n",
       "    }\n",
       "\n",
       "    .dataframe thead th {\n",
       "        text-align: right;\n",
       "    }\n",
       "</style>\n",
       "<table border=\"1\" class=\"dataframe\">\n",
       "  <thead>\n",
       "    <tr style=\"text-align: right;\">\n",
       "      <th></th>\n",
       "      <th>categoria</th>\n",
       "      <th>facturacion</th>\n",
       "    </tr>\n",
       "  </thead>\n",
       "  <tbody>\n",
       "    <tr>\n",
       "      <th>0</th>\n",
       "      <td>Electrónicos</td>\n",
       "      <td>11025894.73</td>\n",
       "    </tr>\n",
       "    <tr>\n",
       "      <th>1</th>\n",
       "      <td>Electrodomésticos</td>\n",
       "      <td>4548591.79</td>\n",
       "    </tr>\n",
       "    <tr>\n",
       "      <th>2</th>\n",
       "      <td>Belleza e higiene</td>\n",
       "      <td>441649.72</td>\n",
       "    </tr>\n",
       "    <tr>\n",
       "      <th>3</th>\n",
       "      <td>Casa y aseo</td>\n",
       "      <td>331036.13</td>\n",
       "    </tr>\n",
       "    <tr>\n",
       "      <th>4</th>\n",
       "      <td>Herramientas y construcción</td>\n",
       "      <td>264552.08</td>\n",
       "    </tr>\n",
       "    <tr>\n",
       "      <th>5</th>\n",
       "      <td>Alimentos y bebidas</td>\n",
       "      <td>241663.20</td>\n",
       "    </tr>\n",
       "    <tr>\n",
       "      <th>6</th>\n",
       "      <td>Libros</td>\n",
       "      <td>78380.24</td>\n",
       "    </tr>\n",
       "    <tr>\n",
       "      <th>7</th>\n",
       "      <td>Papelería y oficina</td>\n",
       "      <td>47239.62</td>\n",
       "    </tr>\n",
       "  </tbody>\n",
       "</table>\n",
       "</div>"
      ],
      "text/plain": [
       "                     categoria  facturacion\n",
       "0                 Electrónicos  11025894.73\n",
       "1            Electrodomésticos   4548591.79\n",
       "2            Belleza e higiene    441649.72\n",
       "3                  Casa y aseo    331036.13\n",
       "4  Herramientas y construcción    264552.08\n",
       "5          Alimentos y bebidas    241663.20\n",
       "6                       Libros     78380.24\n",
       "7          Papelería y oficina     47239.62"
      ]
     },
     "execution_count": 27,
     "metadata": {},
     "output_type": "execute_result"
    }
   ],
   "source": [
    "# Crear una nueva columna con la facturación de cada compra\n",
    "df['facturacion'] = (df['precio_unitario'] * df['cantidad']) + df['envio']\n",
    "\n",
    "# Agrupar por categoría y sumar la facturación\n",
    "facturacion_categoria = df.groupby('categoria')['facturacion'].sum().sort_values(ascending=False).reset_index()\n",
    "facturacion_categoria"
   ]
  },
  {
   "cell_type": "code",
   "execution_count": 30,
   "id": "f559f742-671e-46da-b162-8b9a06184bff",
   "metadata": {},
   "outputs": [
    {
     "data": {
      "image/png": "[encoded data removed]",
      "text/plain": [
       "<Figure size 1000x600 with 1 Axes>"
      ]
     },
     "metadata": {},
     "output_type": "display_data"
    }
   ],
   "source": [
    "# Visualización: gráfico de barras horizontales\n",
    "plt.figure(figsize=(10, 6))\n",
    "sns.barplot(data=facturacion_categoria, x='facturacion', y='categoria', \n",
    "            palette='viridis', orient='h')\n",
    "\n",
    "plt.title('Facturación por Categoría de Producto', fontsize=16)\n",
    "plt.xlabel('Facturación', fontsize=12)\n",
    "plt.ylabel('Categoría', fontsize=12)\n",
    "plt.tight_layout()\n",
    "plt.show()"
   ]
  },
  {
   "cell_type": "markdown",
   "id": "6afa250d-6732-4733-9365-59257bcdca2d",
   "metadata": {},
   "source": [
    "<font color=\"7b71ff\" size=4> Comentarios: </font>\n",
    "\n",
    "---\n",
    "\n",
    "Aquí especificamos el tipo de gráfico, guiando a ChatGPT en la creación de nuestro visual. Podemos notar que en un gráfico de barras el enfoque está más centrado en las categorías, además de ser una forma más fluida de leer textos que podrían ser demasiado extensos para un gráfico de columnas."
   ]
  },
  {
   "cell_type": "markdown",
   "id": "269c92a4-ba87-4b75-95bc-a4d0d1ac4cb0",
   "metadata": {},
   "source": [
    "### **3a Pregunta:** ¿Cómo fueron las ventas a lo largo de los meses en 2023?"
   ]
  },
  {
   "cell_type": "markdown",
   "id": "98a2c549-49e3-428b-9a52-902cfcb3e776",
   "metadata": {},
   "source": [
    "> #### <strong><font color=\"7b71ff\" size=6>Prompt:</font></strong>\n",
    "\n",
    "Tenemos un DataFrame llamado \"df\" y queremos construir un gráfico de líneas que muestre las ventas totales mensuales de Zoop.\n",
    "\n",
    "En \"df\", tenemos las siguientes columnas:\n",
    "* fecha: con las fechas de las compras en formato datetime (`aaaa-mm-dd`)\n",
    "* facturación: calculada como el producto del precio unitario y la cantidad, sumado al costo de envío de cada venta.\n",
    "\n",
    "Deseamos crear una visualización que muestre las ventas por mes. Primero, agrupa los datos por mes y luego crea una nueva columna llamada \"mes\" que contenga el nombre de cada mes, traduciendo los meses del índice mediante el siguiente diccionario. Utiliza la columna \"fecha\" para agrupar los datos y construir el gráfico. La columna \"mes\" solo debe usarse para cambiar las etiquetas del eje x.\n",
    "\n",
    "```\n",
    "meses = {\n",
    "    'January': 'Ene',\n",
    "    'February': 'Feb',\n",
    "    'March': 'Mar',\n",
    "    'April': 'Abr',\n",
    "    'May': 'May',\n",
    "    'June': 'Jun',\n",
    "    'July': 'Jul',\n",
    "    'August': 'Ago',\n",
    "    'September': 'Sep',\n",
    "    'October': 'Oct',\n",
    "    'November': 'Nov',\n",
    "    'December': 'Dic'\n",
    "}\n",
    "```\n",
    "\n",
    "\n",
    "Utiliza las bibliotecas de visualización de datos de Python para crear esta visualización."
   ]
  },
  {
   "cell_type": "code",
   "execution_count": 33,
   "id": "f6300f1f-8653-49b2-aa56-f77a15052fc7",
   "metadata": {},
   "outputs": [],
   "source": [
    "# Asegurar que 'fecha' esté en formato datetime\n",
    "df['fecha'] = pd.to_datetime(df['fecha'])\n",
    "\n",
    "# Calcular facturación si aún no existe\n",
    "if 'facturacion' not in df.columns:\n",
    "    df['facturacion'] = df['precio_unitario'] * df['cantidad'] + df['envio']\n",
    "\n",
    "# Extraer el nombre del mes\n",
    "df['mes_ingles'] = df['fecha'].dt.month_name()\n",
    "\n",
    "# Traducir los nombres de los meses al español\n",
    "meses = {\n",
    "    'January': 'Ene', 'February': 'Feb', 'March': 'Mar', 'April': 'Abr',\n",
    "    'May': 'May', 'June': 'Jun', 'July': 'Jul', 'August': 'Ago',\n",
    "    'September': 'Sep', 'October': 'Oct', 'November': 'Nov', 'December': 'Dic'\n",
    "}\n",
    "df['mes'] = df['mes_ingles'].map(meses)\n",
    "\n",
    "# Crear una columna auxiliar con el número de mes para ordenar correctamente\n",
    "df['mes_num'] = df['fecha'].dt.month\n",
    "\n",
    "# Agrupar solo por mes, sumando todas las facturaciones (sin distinguir año)\n",
    "ventas_mensuales = df.groupby(['mes', 'mes_num'])['facturacion'].sum().reset_index()\n",
    "\n",
    "# Ordenar por el número de mes\n",
    "ventas_mensuales = ventas_mensuales.sort_values('mes_num')"
   ]
  },
  {
   "cell_type": "code",
   "execution_count": 38,
   "id": "ca538e23-e42e-4b1c-917f-7027826d8306",
   "metadata": {},
   "outputs": [
    {
     "data": {
      "image/png": "[encoded data removed]",
      "text/plain": [
       "<Figure size 1000x600 with 1 Axes>"
      ]
     },
     "metadata": {},
     "output_type": "display_data"
    }
   ],
   "source": [
    "# Visualización\n",
    "plt.figure(figsize=(10, 6))\n",
    "sns.lineplot(data=ventas_mensuales, x='mes', y='facturacion', marker='o', color='teal')\n",
    "plt.title('Ventas Totales por Mes', fontsize=16)\n",
    "plt.xlabel('Mes', fontsize=12)\n",
    "plt.ylabel('Facturación Total', fontsize=12)\n",
    "plt.grid(True)\n",
    "plt.tight_layout()\n",
    "plt.show()"
   ]
  },
  {
   "cell_type": "markdown",
   "id": "27a394de-ab17-4d79-99ce-15f4079f7fd4",
   "metadata": {},
   "source": [
    "<font color=\"7b71ff\" size=4> Comentarios: </font>\n",
    "\n",
    "---\n",
    "\n",
    "Cuando tenemos una cantidad mayor de períodos en nuestros datos, vale la pena recurrir a gráficos de líneas, que son ideales para series temporales. Dado que nuestros datos son mensuales, utilizar un gráfico de columnas, por ejemplo, reduciría la percepción de la secuencia de los datos. Las líneas ofrecen una mayor sensación de continuidad.\n",
    "\n",
    "Siéntete libre de formular algunas hipótesis sobre los momentos de alta y baja en las compras."
   ]
  },
  {
   "cell_type": "markdown",
   "id": "ddf1ec59-4fae-4eb9-882c-aff2fe8392fd",
   "metadata": {},
   "source": [
    "##**2.3 - Componiendo datos dinámicos**"
   ]
  },
  {
   "cell_type": "markdown",
   "id": "e825eec4-3bfd-472f-8a50-e1096c2b9375",
   "metadata": {},
   "source": [
    "\n",
    "Construimos algunos visuales interesantes para comparar los datos, mostrando las facturaciones de Zoop. Ahora, pasemos a una nueva categoría de visuales: composición.\n",
    "\n",
    "Vamos a hacer una composición dinámica de los datos. Para ello, añadiremos más variables al análisis, incorporando 3 variables diferentes, siendo una de ellas categórica."
   ]
  },
  {
   "cell_type": "markdown",
   "id": "7d4ef1d1-5198-41bd-984a-cc6e701c8687",
   "metadata": {},
   "source": [
    "4a Pregunta: ¿Cómo está dividida la venta por trimestre por método de pago? ¿Existe algún período en el que algún tipo de pago se destaque?"
   ]
  },
  {
   "cell_type": "markdown",
   "id": "b6fcf9a4-8dac-4239-89b2-72bf9c7444b5",
   "metadata": {},
   "source": [
    "> #### <strong><font color=\"7b71ff\" size=6>Prompt:</font></strong>\n",
    "\n",
    "Tenemos un DataFrame llamado \"df\" y queremos construir un gráfico de barras apiladas que muestre las ventas por trimestre en relación con el método de pago de Zoop.\n",
    "\n",
    "En \"df\", tenemos las siguientes columnas:\n",
    "* fecha: con las fechas de las compras en formato datetime (`aaaa-mm-dd`)\n",
    "* facturacion: con los valores de las ventas\n",
    "* metodo_pago: con el método de pago elegido en la compra\n",
    "\n",
    "Deseamos crear una visualización que muestre las ventas por trimestre, agrupando los métodos de pago de cada trimestre correspondientes a cada compra.\n",
    "\n",
    "Utiliza las bibliotecas de visualización de datos de Python para crear esta visualización."
   ]
  },
  {
   "cell_type": "code",
   "execution_count": 41,
   "id": "89e52675-dd0e-4767-a735-17fd69fa5f50",
   "metadata": {},
   "outputs": [],
   "source": [
    "# Asegurarse de que 'fecha' esté en formato datetime\n",
    "df['fecha'] = pd.to_datetime(df['fecha'])\n",
    "\n",
    "# Crear columna de trimestre como texto completo\n",
    "df['trimestre'] = df['fecha'].dt.quarter.map({\n",
    "    1: 'Trimestre 1',\n",
    "    2: 'Trimestre 2',\n",
    "    3: 'Trimestre 3',\n",
    "    4: 'Trimestre 4'\n",
    "})\n",
    "\n",
    "# Agrupar por trimestre y método de pago, sumando la facturación\n",
    "ventas_trimestre = df.groupby(['trimestre', 'metodo_pago'])['facturacion'].sum().unstack(fill_value=0)\n",
    "\n",
    "# Ordenar los trimestres correctamente\n",
    "orden_trimestres = ['Trimestre 1', 'Trimestre 2', 'Trimestre 3', 'Trimestre 4']\n",
    "ventas_trimestre = ventas_trimestre.reindex(orden_trimestres)"
   ]
  },
  {
   "cell_type": "code",
   "execution_count": 46,
   "id": "0cc3ad25-2b3b-453b-8fda-74b3e5ad13c1",
   "metadata": {},
   "outputs": [
    {
     "data": {
      "image/png": "[encoded data removed]",
      "text/plain": [
       "<Figure size 1000x600 with 1 Axes>"
      ]
     },
     "metadata": {},
     "output_type": "display_data"
    }
   ],
   "source": [
    "# Visualización: gráfico de barras apiladas\n",
    "ventas_trimestre.plot(kind='bar', stacked=True, figsize=(10, 6), colormap='VIRIDI')\n",
    "\n",
    "plt.title('Ventas por Trimestre según Método de Pago', fontsize=16)\n",
    "plt.xlabel('', fontsize=12)\n",
    "plt.ylabel('Facturación', fontsize=12)\n",
    "plt.legend(title='Método de Pago')\n",
    "plt.xticks(rotation=0)\n",
    "plt.tight_layout()\n",
    "plt.show()"
   ]
  },
  {
   "cell_type": "markdown",
   "id": "df731937-4f1c-4972-97bb-bc3455014e19",
   "metadata": {},
   "source": [
    "<font color=\"7b71ff\" size=4> Comentarios: </font>\n",
    "\n",
    "---\n",
    "\n",
    "El gráfico de columnas apiladas añade a la comparación entre períodos o categorías, la comparación también entre los datos de cada período/categoría. Es como si pusiéramos una \"lupa\" en cada columna y visualizáramos la composición de cada una de acuerdo con la variable deseada (aquí, las formas de pago).\n",
    "\n",
    "Siéntete libre de formular algunas hipótesis sobre las ventas por trimestre combinadas con el tipo de pago y qué ideas podemos obtener de esta base de datos."
   ]
  },
  {
   "cell_type": "markdown",
   "id": "c08661a7-9df8-4bc4-9d14-98577c6313fc",
   "metadata": {},
   "source": [
    "## **3.1 - Componiendo datos estáticos**\n",
    "\n",
    "---"
   ]
  },
  {
   "cell_type": "markdown",
   "id": "3a97678d-1ed3-49ed-9aba-742b3e4de608",
   "metadata": {},
   "source": [
    "Inicialmente, presentaremos un ejemplo de cómo podemos utilizar la comparación de datos estáticos, es decir, un recorte en el tiempo o de las variables que poseemos."
   ]
  },
  {
   "cell_type": "markdown",
   "id": "f940cc0b-2ad4-4eff-81e0-37c14d5a1ab4",
   "metadata": {},
   "source": [
    "> #### <strong><font color=\"7b71ff\" size=6>Prompt:</font></strong>\n",
    "\n",
    "Tenemos un DataFrame llamado \"df\" y queremos construir un gráfico que muestre la proporción de usuarios(as) que están participando en el programa de cashback de Zoop.\n",
    "\n",
    "En \"df\", tenemos la columna \"cashback\" que contiene estos datos.\n",
    "\n",
    "Utiliza las bibliotecas de visualización de datos de Python para crear esta visualización."
   ]
  },
  {
   "cell_type": "code",
   "execution_count": null,
   "id": "9778cd59-4419-42c0-aa82-a86b5e3b0972",
   "metadata": {},
   "outputs": [],
   "source": []
  }
 ],
 "metadata": {
  "kernelspec": {
   "display_name": "Python 3 (ipykernel)",
   "language": "python",
   "name": "python3"
  },
  "language_info": {
   "codemirror_mode": {
    "name": "ipython",
    "version": 3
   },
   "file_extension": ".py",
   "mimetype": "text/x-python",
   "name": "python",
   "nbconvert_exporter": "python",
   "pygments_lexer": "ipython3",
   "version": "3.12.7"
  }
 },
 "nbformat": 4,
 "nbformat_minor": 5
}
