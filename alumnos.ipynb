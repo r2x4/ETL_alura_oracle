{
 "cells": [
  {
   "cell_type": "code",
   "execution_count": null,
   "id": "3d1de11c-4f98-4c06-ac1d-bf12a3832aad",
   "metadata": {},
   "outputs": [],
   "source": []
  }
 ],
 "metadata": {
  "kernelspec": {
   "display_name": "",
   "name": ""
  },
  "language_info": {
   "name": ""
  }
 },
 "nbformat": 4,
 "nbformat_minor": 5
}
