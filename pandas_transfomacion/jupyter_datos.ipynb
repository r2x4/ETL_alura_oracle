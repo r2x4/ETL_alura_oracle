{
 "cells": [
  {
   "cell_type": "markdown",
   "id": "35b8cb26-1dc2-4ef4-a34c-f09dba0e5d3b",
   "metadata": {},
   "source": [
    "# **Transformacion de datos con Pandas**"
   ]
  },
  {
   "cell_type": "code",
   "execution_count": null,
   "id": "9c590db2-0967-4952-829a-1cf7ee81047a",
   "metadata": {},
   "outputs": [],
   "source": []
  }
 ],
 "metadata": {
  "kernelspec": {
   "display_name": "Python 3 (ipykernel)",
   "language": "python",
   "name": "python3"
  },
  "language_info": {
   "codemirror_mode": {
    "name": "ipython",
    "version": 3
   },
   "file_extension": ".py",
   "mimetype": "text/x-python",
   "name": "python",
   "nbconvert_exporter": "python",
   "pygments_lexer": "ipython3",
   "version": "3.13.3"
  }
 },
 "nbformat": 4,
 "nbformat_minor": 5
}
