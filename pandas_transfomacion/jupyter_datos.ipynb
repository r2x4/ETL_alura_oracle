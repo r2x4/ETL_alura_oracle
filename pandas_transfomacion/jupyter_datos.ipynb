{
 "cells": [
  {
   "cell_type": "markdown",
   "id": "35b8cb26-1dc2-4ef4-a34c-f09dba0e5d3b",
   "metadata": {},
   "source": [
    "# **Transformacion de datos con Pandas**"
   ]
  },
  {
   "cell_type": "markdown",
   "id": "668d9e73-6c33-41ad-9759-ad3687a49e2f",
   "metadata": {},
   "source": [
    "# **Problema de Negocio**"
   ]
  },
  {
   "cell_type": "markdown",
   "id": "e0d3b14a-fb23-4d75-af64-cb3c6402fac5",
   "metadata": {},
   "source": [
    "### Se trata de un algoritmo capaz de analizar las características de una propiedad -como comodidades, tamaño, ocupación del espacio en un período determinado- y sugerir al anfitrión un precio a cobrar por tarifas diarias que garantice ganancias en momentos de alta demanda."
   ]
  },
  {
   "cell_type": "code",
   "execution_count": 1,
   "id": "38b6cee6-b1f9-4136-b9e6-e02a195e715c",
   "metadata": {},
   "outputs": [],
   "source": [
    "# Leer el JSON\n",
    "\n",
    "import pandas as pd\n",
    "\n",
    "datos_hosting = pd.read_json('datos_hosting.json')"
   ]
  },
  {
   "cell_type": "code",
   "execution_count": 2,
   "id": "12cc17f0-59d0-48e6-a823-613402a9baec",
   "metadata": {},
   "outputs": [
    {
     "data": {
      "text/html": [
       "<div>\n",
       "<style scoped>\n",
       "    .dataframe tbody tr th:only-of-type {\n",
       "        vertical-align: middle;\n",
       "    }\n",
       "\n",
       "    .dataframe tbody tr th {\n",
       "        vertical-align: top;\n",
       "    }\n",
       "\n",
       "    .dataframe thead th {\n",
       "        text-align: right;\n",
       "    }\n",
       "</style>\n",
       "<table border=\"1\" class=\"dataframe\">\n",
       "  <thead>\n",
       "    <tr style=\"text-align: right;\">\n",
       "      <th></th>\n",
       "      <th>info_inmuebles</th>\n",
       "    </tr>\n",
       "  </thead>\n",
       "  <tbody>\n",
       "    <tr>\n",
       "      <th>0</th>\n",
       "      <td>{'evaluacion_general': '10.0', 'experiencia_lo...</td>\n",
       "    </tr>\n",
       "    <tr>\n",
       "      <th>1</th>\n",
       "      <td>{'evaluacion_general': '10.0', 'experiencia_lo...</td>\n",
       "    </tr>\n",
       "    <tr>\n",
       "      <th>2</th>\n",
       "      <td>{'evaluacion_general': '10.0', 'experiencia_lo...</td>\n",
       "    </tr>\n",
       "    <tr>\n",
       "      <th>3</th>\n",
       "      <td>{'evaluacion_general': '10.0', 'experiencia_lo...</td>\n",
       "    </tr>\n",
       "    <tr>\n",
       "      <th>4</th>\n",
       "      <td>{'evaluacion_general': '10.0', 'experiencia_lo...</td>\n",
       "    </tr>\n",
       "    <tr>\n",
       "      <th>...</th>\n",
       "      <td>...</td>\n",
       "    </tr>\n",
       "    <tr>\n",
       "      <th>65</th>\n",
       "      <td>{'evaluacion_general': 'nan', 'experiencia_loc...</td>\n",
       "    </tr>\n",
       "    <tr>\n",
       "      <th>66</th>\n",
       "      <td>{'evaluacion_general': 'nan', 'experiencia_loc...</td>\n",
       "    </tr>\n",
       "    <tr>\n",
       "      <th>67</th>\n",
       "      <td>{'evaluacion_general': 'nan', 'experiencia_loc...</td>\n",
       "    </tr>\n",
       "    <tr>\n",
       "      <th>68</th>\n",
       "      <td>{'evaluacion_general': 'nan', 'experiencia_loc...</td>\n",
       "    </tr>\n",
       "    <tr>\n",
       "      <th>69</th>\n",
       "      <td>{'evaluacion_general': 'nan', 'experiencia_loc...</td>\n",
       "    </tr>\n",
       "  </tbody>\n",
       "</table>\n",
       "<p>70 rows × 1 columns</p>\n",
       "</div>"
      ],
      "text/plain": [
       "                                       info_inmuebles\n",
       "0   {'evaluacion_general': '10.0', 'experiencia_lo...\n",
       "1   {'evaluacion_general': '10.0', 'experiencia_lo...\n",
       "2   {'evaluacion_general': '10.0', 'experiencia_lo...\n",
       "3   {'evaluacion_general': '10.0', 'experiencia_lo...\n",
       "4   {'evaluacion_general': '10.0', 'experiencia_lo...\n",
       "..                                                ...\n",
       "65  {'evaluacion_general': 'nan', 'experiencia_loc...\n",
       "66  {'evaluacion_general': 'nan', 'experiencia_loc...\n",
       "67  {'evaluacion_general': 'nan', 'experiencia_loc...\n",
       "68  {'evaluacion_general': 'nan', 'experiencia_loc...\n",
       "69  {'evaluacion_general': 'nan', 'experiencia_loc...\n",
       "\n",
       "[70 rows x 1 columns]"
      ]
     },
     "execution_count": 2,
     "metadata": {},
     "output_type": "execute_result"
    }
   ],
   "source": [
    "datos_hosting"
   ]
  },
  {
   "cell_type": "code",
   "execution_count": null,
   "id": "4f1157a8-5e36-48dc-9feb-fe4a2386c57f",
   "metadata": {},
   "outputs": [],
   "source": []
  }
 ],
 "metadata": {
  "kernelspec": {
   "display_name": "Python 3 (ipykernel)",
   "language": "python",
   "name": "python3"
  },
  "language_info": {
   "codemirror_mode": {
    "name": "ipython",
    "version": 3
   },
   "file_extension": ".py",
   "mimetype": "text/x-python",
   "name": "python",
   "nbconvert_exporter": "python",
   "pygments_lexer": "ipython3",
   "version": "3.13.3"
  }
 },
 "nbformat": 4,
 "nbformat_minor": 5
}
