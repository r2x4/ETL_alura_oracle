{
 "cells": [
  {
   "cell_type": "markdown",
   "id": "de8ff156-0cb6-456c-8305-9ffc20080118",
   "metadata": {},
   "source": [
    "# **Visualización de datos con Python: Matplotlib, Seaborn y Plotly**"
   ]
  },
  {
   "cell_type": "code",
   "execution_count": null,
   "id": "0f08fd64-7985-46e7-8bca-7e6ec7be072a",
   "metadata": {},
   "outputs": [],
   "source": []
  }
 ],
 "metadata": {
  "kernelspec": {
   "display_name": "Python 3 (ipykernel)",
   "language": "python",
   "name": "python3"
  },
  "language_info": {
   "codemirror_mode": {
    "name": "ipython",
    "version": 3
   },
   "file_extension": ".py",
   "mimetype": "text/x-python",
   "name": "python",
   "nbconvert_exporter": "python",
   "pygments_lexer": "ipython3",
   "version": "3.12.7"
  }
 },
 "nbformat": 4,
 "nbformat_minor": 5
}
