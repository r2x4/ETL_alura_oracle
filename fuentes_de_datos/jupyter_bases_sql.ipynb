{
 "cells": [
  {
   "cell_type": "markdown",
   "id": "ae3518c4-d8df-4766-a3fa-eae2e0d629e3",
   "metadata": {},
   "source": [
    "# **Datos SQL o bases de datos**"
   ]
  },
  {
   "cell_type": "markdown",
   "id": "32642ecc-ae85-4bd9-b611-b68cfadaecd6",
   "metadata": {},
   "source": [
    "### **crear un banco de Datos**"
   ]
  },
  {
   "cell_type": "code",
   "execution_count": 3,
   "id": "1f8002a0-d129-4ade-8d88-e9a3e76e1f2a",
   "metadata": {},
   "outputs": [
    {
     "name": "stdout",
     "output_type": "stream",
     "text": [
      "Defaulting to user installation because normal site-packages is not writeable\n",
      "Collecting sqlalchemy\n",
      "  Downloading sqlalchemy-2.0.41-cp313-cp313-manylinux_2_17_x86_64.manylinux2014_x86_64.whl.metadata (9.6 kB)\n",
      "Collecting greenlet>=1 (from sqlalchemy)\n",
      "  Downloading greenlet-3.2.2-cp313-cp313-manylinux_2_24_x86_64.manylinux_2_28_x86_64.whl.metadata (4.1 kB)\n",
      "Requirement already satisfied: typing-extensions>=4.6.0 in /usr/lib/python3.13/site-packages (from sqlalchemy) (4.12.2)\n",
      "Downloading sqlalchemy-2.0.41-cp313-cp313-manylinux_2_17_x86_64.manylinux2014_x86_64.whl (3.2 MB)\n",
      "\u001b[2K   \u001b[38;2;114;156;31m━━━━━━━━━━━━━━━━━━━━━━━━━━━━━━━━━━━━━━━━\u001b[0m \u001b[32m3.2/3.2 MB\u001b[0m \u001b[31m16.0 MB/s\u001b[0m eta \u001b[36m0:00:00\u001b[0m\n",
      "\u001b[?25hDownloading greenlet-3.2.2-cp313-cp313-manylinux_2_24_x86_64.manylinux_2_28_x86_64.whl (606 kB)\n",
      "\u001b[2K   \u001b[38;2;114;156;31m━━━━━━━━━━━━━━━━━━━━━━━━━━━━━━━━━━━━━━━━\u001b[0m \u001b[32m606.8/606.8 kB\u001b[0m \u001b[31m3.2 MB/s\u001b[0m eta \u001b[36m0:00:00\u001b[0m\n",
      "\u001b[?25hInstalling collected packages: greenlet, sqlalchemy\n",
      "Successfully installed greenlet-3.2.2 sqlalchemy-2.0.41\n",
      "Note: you may need to restart the kernel to use updated packages.\n"
     ]
    }
   ],
   "source": [
    "pip install sqlalchemy\n"
   ]
  },
  {
   "cell_type": "code",
   "execution_count": 6,
   "id": "162131a1-c924-48f7-ae8a-dbfb9ddca336",
   "metadata": {},
   "outputs": [],
   "source": [
    "# importar biblioteca\n",
    "\n",
    "import sqlalchemy\n"
   ]
  },
  {
   "cell_type": "code",
   "execution_count": 5,
   "id": "6b13c1b6-3edc-41c6-b089-d1a329631cf4",
   "metadata": {},
   "outputs": [],
   "source": [
    "from sqlalchemy import create_engine, MetaData, Table, inspect, text, Column, Integer, String"
   ]
  },
  {
   "cell_type": "markdown",
   "id": "3f66e4c5-21fe-4dc8-a531-9da08c1b8e11",
   "metadata": {},
   "source": [
    "# crear el banco de datos"
   ]
  },
  {
   "cell_type": "code",
   "execution_count": 7,
   "id": "dfcf2446-f31c-4fbe-8ff1-743c803277e5",
   "metadata": {},
   "outputs": [],
   "source": [
    "# crear el motor de datos\n",
    "\n",
    "engine = create_engine('sqlite:///:memory:')"
   ]
  },
  {
   "cell_type": "code",
   "execution_count": 14,
   "id": "6531fa2c-adfe-4938-9f27-ec3fc1346228",
   "metadata": {},
   "outputs": [],
   "source": [
    "# Importar datos clientes Banco\n",
    "\n",
    "import pandas as pd\n",
    "\n",
    "archivo = 'clientes_banco.csv'"
   ]
  },
  {
   "cell_type": "code",
   "execution_count": 16,
   "id": "34b03003-63e0-40c6-8d22-f340d5509b89",
   "metadata": {},
   "outputs": [],
   "source": [
    "# generar la variable para el banco\n",
    "\n",
    "archivo = 'clientes_banco.csv'"
   ]
  },
  {
   "cell_type": "code",
   "execution_count": 17,
   "id": "83c73835-3ac9-4cd6-b620-b88c3b77edbe",
   "metadata": {},
   "outputs": [],
   "source": [
    "# generar variable y leer la avriable del banco\n",
    "\n",
    "datos = pd.read_csv(archivo)"
   ]
  },
  {
   "cell_type": "code",
   "execution_count": null,
   "id": "5fcb9126-ba12-40ce-a061-61939a739948",
   "metadata": {},
   "outputs": [],
   "source": []
  }
 ],
 "metadata": {
  "kernelspec": {
   "display_name": "Python 3 (ipykernel)",
   "language": "python",
   "name": "python3"
  },
  "language_info": {
   "codemirror_mode": {
    "name": "ipython",
    "version": 3
   },
   "file_extension": ".py",
   "mimetype": "text/x-python",
   "name": "python",
   "nbconvert_exporter": "python",
   "pygments_lexer": "ipython3",
   "version": "3.13.3"
  }
 },
 "nbformat": 4,
 "nbformat_minor": 5
}
