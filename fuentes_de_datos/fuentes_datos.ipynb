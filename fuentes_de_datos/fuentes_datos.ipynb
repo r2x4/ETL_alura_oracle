{
 "cells": [
  {
   "cell_type": "markdown",
   "id": "8ea9d008-38ea-4155-914a-7f0123cbe0f4",
   "metadata": {},
   "source": [
    "# **Diferentes Fuentes de Datos**"
   ]
  },
  {
   "cell_type": "code",
   "execution_count": null,
   "id": "2654ff13-ac34-4a79-89af-416c2a9021fe",
   "metadata": {},
   "outputs": [],
   "source": []
  }
 ],
 "metadata": {
  "kernelspec": {
   "display_name": "Python 3 (ipykernel)",
   "language": "python",
   "name": "python3"
  },
  "language_info": {
   "codemirror_mode": {
    "name": "ipython",
    "version": 3
   },
   "file_extension": ".py",
   "mimetype": "text/x-python",
   "name": "python",
   "nbconvert_exporter": "python",
   "pygments_lexer": "ipython3",
   "version": "3.12.7"
  }
 },
 "nbformat": 4,
 "nbformat_minor": 5
}
