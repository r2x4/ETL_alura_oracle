{
 "cells": [
  {
   "cell_type": "code",
   "execution_count": null,
   "id": "2b79fc47-2bd7-4f96-aa26-f47c5eb5b164",
   "metadata": {},
   "outputs": [],
   "source": []
  }
 ],
 "metadata": {
  "kernelspec": {
   "display_name": "",
   "name": ""
  },
  "language_info": {
   "name": ""
  }
 },
 "nbformat": 4,
 "nbformat_minor": 5
}
