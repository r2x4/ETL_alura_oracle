{
 "cells": [
  {
   "cell_type": "markdown",
   "id": "9edec17d-b985-4ea7-b7c1-3ac1712cae11",
   "metadata": {},
   "source": [
    "# **Archivos HTML y XLM**"
   ]
  },
  {
   "cell_type": "markdown",
   "id": "294e14fd-ebfd-4741-84ca-c7438b452f26",
   "metadata": {},
   "source": [
    "# **Importar datos de una pagina web**"
   ]
  },
  {
   "cell_type": "code",
   "execution_count": 4,
   "id": "78090565-b589-4f3a-abfb-ed690f3b71f8",
   "metadata": {},
   "outputs": [],
   "source": [
    "# Importar datos web\n",
    "\n",
    "import pandas as pd\n",
    "datos_html = pd.read_html('peliculas_wikipedia.html')"
   ]
  },
  {
   "cell_type": "code",
   "execution_count": 5,
   "id": "8ccca12d-1bfc-426e-9838-ce3292534e52",
   "metadata": {},
   "outputs": [
    {
     "data": {
      "text/plain": [
       "[       0                      1\n",
       " 0   1998             100 Movies\n",
       " 1   1999              100 Stars\n",
       " 2   2000             100 Laughs\n",
       " 3   2001            100 Thrills\n",
       " 4   2002           100 Passions\n",
       " 5   2003  100 Heroes & Villains\n",
       " 6   2004              100 Songs\n",
       " 7   2005       100 Movie Quotes\n",
       " 8   2005              25 Scores\n",
       " 9   2006             100 Cheers\n",
       " 10  2006            25 Musicals\n",
       " 11  2007   100 Movies (Updated)\n",
       " 12  2008        AFI's 10 Top 10\n",
       " 13   vte                    vte,\n",
       "                             Film  Release year              Director  \\\n",
       " 0                   Citizen Kane          1941          Orson Welles   \n",
       " 1                     Casablanca          1942        Michael Curtiz   \n",
       " 2                  The Godfather          1972  Francis Ford Coppola   \n",
       " 3             Gone with the Wind          1939        Victor Fleming   \n",
       " 4             Lawrence of Arabia          1962            David Lean   \n",
       " ..                           ...           ...                   ...   \n",
       " 95                 The Searchers          1956             John Ford   \n",
       " 96              Bringing Up Baby          1938          Howard Hawks   \n",
       " 97                    Unforgiven          1992        Clint Eastwood   \n",
       " 98  Guess Who's Coming to Dinner          1967        Stanley Kramer   \n",
       " 99           Yankee Doodle Dandy          1942        Michael Curtiz   \n",
       " \n",
       "                       Production companies  Rank  \n",
       " 0                       RKO Radio Pictures     1  \n",
       " 1                    Warner Bros. Pictures     2  \n",
       " 2   Paramount Pictures, Alfran Productions     3  \n",
       " 3          Selznick International Pictures     4  \n",
       " 4                         Horizon Pictures     5  \n",
       " ..                                     ...   ...  \n",
       " 95                  C. V. Whitney Pictures    96  \n",
       " 96                      RKO Radio Pictures    97  \n",
       " 97                     The Malpaso Company    98  \n",
       " 98                       Columbia Pictures    99  \n",
       " 99                   Warner Bros. Pictures   100  \n",
       " \n",
       " [100 rows x 5 columns],\n",
       "           hidevteAFI's 100 Years...100 Movies (1998)  \\\n",
       " 0  Citizen Kane (1941) Casablanca (1942) The Godf...   \n",
       " \n",
       "         hidevteAFI's 100 Years...100 Movies (1998).1  \n",
       " 0  Citizen Kane (1941) Casablanca (1942) The Godf...  ]"
      ]
     },
     "execution_count": 5,
     "metadata": {},
     "output_type": "execute_result"
    }
   ],
   "source": [
    "datos_html"
   ]
  },
  {
   "cell_type": "code",
   "execution_count": 6,
   "id": "7787f322-9f59-4979-95ea-2be78195f253",
   "metadata": {},
   "outputs": [
    {
     "data": {
      "text/plain": [
       "list"
      ]
     },
     "execution_count": 6,
     "metadata": {},
     "output_type": "execute_result"
    }
   ],
   "source": [
    "type(datos_html)"
   ]
  },
  {
   "cell_type": "code",
   "execution_count": 7,
   "id": "529e0a9c-6a9c-4f3c-b93b-d5a15df1c62e",
   "metadata": {},
   "outputs": [
    {
     "data": {
      "text/plain": [
       "3"
      ]
     },
     "execution_count": 7,
     "metadata": {},
     "output_type": "execute_result"
    }
   ],
   "source": [
    "# tamano de la variable\n",
    "\n",
    "len(datos_html)"
   ]
  },
  {
   "cell_type": "code",
   "execution_count": 8,
   "id": "97e33602-b9e6-404e-b0fc-39853c16f6fe",
   "metadata": {},
   "outputs": [],
   "source": [
    "# estos por inspeccionar la pagina y tomamos la segunda tabla es prograamcion\n",
    "\n",
    "top_movies = datos_html[1]"
   ]
  },
  {
   "cell_type": "code",
   "execution_count": 9,
   "id": "6e51013b-82fc-4924-99ae-c519770485f0",
   "metadata": {},
   "outputs": [
    {
     "data": {
      "text/html": [
       "<div>\n",
       "<style scoped>\n",
       "    .dataframe tbody tr th:only-of-type {\n",
       "        vertical-align: middle;\n",
       "    }\n",
       "\n",
       "    .dataframe tbody tr th {\n",
       "        vertical-align: top;\n",
       "    }\n",
       "\n",
       "    .dataframe thead th {\n",
       "        text-align: right;\n",
       "    }\n",
       "</style>\n",
       "<table border=\"1\" class=\"dataframe\">\n",
       "  <thead>\n",
       "    <tr style=\"text-align: right;\">\n",
       "      <th></th>\n",
       "      <th>Film</th>\n",
       "      <th>Release year</th>\n",
       "      <th>Director</th>\n",
       "      <th>Production companies</th>\n",
       "      <th>Rank</th>\n",
       "    </tr>\n",
       "  </thead>\n",
       "  <tbody>\n",
       "    <tr>\n",
       "      <th>0</th>\n",
       "      <td>Citizen Kane</td>\n",
       "      <td>1941</td>\n",
       "      <td>Orson Welles</td>\n",
       "      <td>RKO Radio Pictures</td>\n",
       "      <td>1</td>\n",
       "    </tr>\n",
       "    <tr>\n",
       "      <th>1</th>\n",
       "      <td>Casablanca</td>\n",
       "      <td>1942</td>\n",
       "      <td>Michael Curtiz</td>\n",
       "      <td>Warner Bros. Pictures</td>\n",
       "      <td>2</td>\n",
       "    </tr>\n",
       "    <tr>\n",
       "      <th>2</th>\n",
       "      <td>The Godfather</td>\n",
       "      <td>1972</td>\n",
       "      <td>Francis Ford Coppola</td>\n",
       "      <td>Paramount Pictures, Alfran Productions</td>\n",
       "      <td>3</td>\n",
       "    </tr>\n",
       "    <tr>\n",
       "      <th>3</th>\n",
       "      <td>Gone with the Wind</td>\n",
       "      <td>1939</td>\n",
       "      <td>Victor Fleming</td>\n",
       "      <td>Selznick International Pictures</td>\n",
       "      <td>4</td>\n",
       "    </tr>\n",
       "    <tr>\n",
       "      <th>4</th>\n",
       "      <td>Lawrence of Arabia</td>\n",
       "      <td>1962</td>\n",
       "      <td>David Lean</td>\n",
       "      <td>Horizon Pictures</td>\n",
       "      <td>5</td>\n",
       "    </tr>\n",
       "    <tr>\n",
       "      <th>...</th>\n",
       "      <td>...</td>\n",
       "      <td>...</td>\n",
       "      <td>...</td>\n",
       "      <td>...</td>\n",
       "      <td>...</td>\n",
       "    </tr>\n",
       "    <tr>\n",
       "      <th>95</th>\n",
       "      <td>The Searchers</td>\n",
       "      <td>1956</td>\n",
       "      <td>John Ford</td>\n",
       "      <td>C. V. Whitney Pictures</td>\n",
       "      <td>96</td>\n",
       "    </tr>\n",
       "    <tr>\n",
       "      <th>96</th>\n",
       "      <td>Bringing Up Baby</td>\n",
       "      <td>1938</td>\n",
       "      <td>Howard Hawks</td>\n",
       "      <td>RKO Radio Pictures</td>\n",
       "      <td>97</td>\n",
       "    </tr>\n",
       "    <tr>\n",
       "      <th>97</th>\n",
       "      <td>Unforgiven</td>\n",
       "      <td>1992</td>\n",
       "      <td>Clint Eastwood</td>\n",
       "      <td>The Malpaso Company</td>\n",
       "      <td>98</td>\n",
       "    </tr>\n",
       "    <tr>\n",
       "      <th>98</th>\n",
       "      <td>Guess Who's Coming to Dinner</td>\n",
       "      <td>1967</td>\n",
       "      <td>Stanley Kramer</td>\n",
       "      <td>Columbia Pictures</td>\n",
       "      <td>99</td>\n",
       "    </tr>\n",
       "    <tr>\n",
       "      <th>99</th>\n",
       "      <td>Yankee Doodle Dandy</td>\n",
       "      <td>1942</td>\n",
       "      <td>Michael Curtiz</td>\n",
       "      <td>Warner Bros. Pictures</td>\n",
       "      <td>100</td>\n",
       "    </tr>\n",
       "  </tbody>\n",
       "</table>\n",
       "<p>100 rows × 5 columns</p>\n",
       "</div>"
      ],
      "text/plain": [
       "                            Film  Release year              Director  \\\n",
       "0                   Citizen Kane          1941          Orson Welles   \n",
       "1                     Casablanca          1942        Michael Curtiz   \n",
       "2                  The Godfather          1972  Francis Ford Coppola   \n",
       "3             Gone with the Wind          1939        Victor Fleming   \n",
       "4             Lawrence of Arabia          1962            David Lean   \n",
       "..                           ...           ...                   ...   \n",
       "95                 The Searchers          1956             John Ford   \n",
       "96              Bringing Up Baby          1938          Howard Hawks   \n",
       "97                    Unforgiven          1992        Clint Eastwood   \n",
       "98  Guess Who's Coming to Dinner          1967        Stanley Kramer   \n",
       "99           Yankee Doodle Dandy          1942        Michael Curtiz   \n",
       "\n",
       "                      Production companies  Rank  \n",
       "0                       RKO Radio Pictures     1  \n",
       "1                    Warner Bros. Pictures     2  \n",
       "2   Paramount Pictures, Alfran Productions     3  \n",
       "3          Selznick International Pictures     4  \n",
       "4                         Horizon Pictures     5  \n",
       "..                                     ...   ...  \n",
       "95                  C. V. Whitney Pictures    96  \n",
       "96                      RKO Radio Pictures    97  \n",
       "97                     The Malpaso Company    98  \n",
       "98                       Columbia Pictures    99  \n",
       "99                   Warner Bros. Pictures   100  \n",
       "\n",
       "[100 rows x 5 columns]"
      ]
     },
     "execution_count": 9,
     "metadata": {},
     "output_type": "execute_result"
    }
   ],
   "source": [
    "top_movies"
   ]
  },
  {
   "cell_type": "markdown",
   "id": "039c5315-c996-4611-a12b-20d7b94d6d75",
   "metadata": {},
   "source": [
    "# **Exportarlo a HTML**"
   ]
  },
  {
   "cell_type": "code",
   "execution_count": 11,
   "id": "e244aab7-0621-432d-8e4a-1798c8a3ef7f",
   "metadata": {},
   "outputs": [],
   "source": [
    "top_movies.to_html('top_movies.html', index=False)"
   ]
  },
  {
   "cell_type": "code",
   "execution_count": 12,
   "id": "2fb016f2-1b13-40b3-bb4c-90d4968571c0",
   "metadata": {},
   "outputs": [
    {
     "data": {
      "text/plain": [
       "[                            Film  Release year              Director  \\\n",
       " 0                   Citizen Kane          1941          Orson Welles   \n",
       " 1                     Casablanca          1942        Michael Curtiz   \n",
       " 2                  The Godfather          1972  Francis Ford Coppola   \n",
       " 3             Gone with the Wind          1939        Victor Fleming   \n",
       " 4             Lawrence of Arabia          1962            David Lean   \n",
       " ..                           ...           ...                   ...   \n",
       " 95                 The Searchers          1956             John Ford   \n",
       " 96              Bringing Up Baby          1938          Howard Hawks   \n",
       " 97                    Unforgiven          1992        Clint Eastwood   \n",
       " 98  Guess Who's Coming to Dinner          1967        Stanley Kramer   \n",
       " 99           Yankee Doodle Dandy          1942        Michael Curtiz   \n",
       " \n",
       "                       Production companies  Rank  \n",
       " 0                       RKO Radio Pictures     1  \n",
       " 1                    Warner Bros. Pictures     2  \n",
       " 2   Paramount Pictures, Alfran Productions     3  \n",
       " 3          Selznick International Pictures     4  \n",
       " 4                         Horizon Pictures     5  \n",
       " ..                                     ...   ...  \n",
       " 95                  C. V. Whitney Pictures    96  \n",
       " 96                      RKO Radio Pictures    97  \n",
       " 97                     The Malpaso Company    98  \n",
       " 98                       Columbia Pictures    99  \n",
       " 99                   Warner Bros. Pictures   100  \n",
       " \n",
       " [100 rows x 5 columns]]"
      ]
     },
     "execution_count": 12,
     "metadata": {},
     "output_type": "execute_result"
    }
   ],
   "source": [
    "pd.read_html('top_movies.html')"
   ]
  },
  {
   "cell_type": "code",
   "execution_count": 13,
   "id": "d8ca6f86-8d64-4d4e-9646-f10a0362cf49",
   "metadata": {},
   "outputs": [],
   "source": [
    "# exportarlo csv\n",
    "\n",
    "top_movies.to_csv('top_movies_1998.csv', index=False)"
   ]
  },
  {
   "cell_type": "code",
   "execution_count": 14,
   "id": "2c3e7a2b-c6f6-45b2-a4a8-6b311df842a0",
   "metadata": {},
   "outputs": [],
   "source": [
    "datos_pelis = pd.read_csv('top_movies_1998.csv')"
   ]
  },
  {
   "cell_type": "code",
   "execution_count": 15,
   "id": "6f4fd962-f3e3-4d87-b5e1-008da2fde300",
   "metadata": {},
   "outputs": [
    {
     "data": {
      "text/html": [
       "<div>\n",
       "<style scoped>\n",
       "    .dataframe tbody tr th:only-of-type {\n",
       "        vertical-align: middle;\n",
       "    }\n",
       "\n",
       "    .dataframe tbody tr th {\n",
       "        vertical-align: top;\n",
       "    }\n",
       "\n",
       "    .dataframe thead th {\n",
       "        text-align: right;\n",
       "    }\n",
       "</style>\n",
       "<table border=\"1\" class=\"dataframe\">\n",
       "  <thead>\n",
       "    <tr style=\"text-align: right;\">\n",
       "      <th></th>\n",
       "      <th>Film</th>\n",
       "      <th>Release year</th>\n",
       "      <th>Director</th>\n",
       "      <th>Production companies</th>\n",
       "      <th>Rank</th>\n",
       "    </tr>\n",
       "  </thead>\n",
       "  <tbody>\n",
       "    <tr>\n",
       "      <th>0</th>\n",
       "      <td>Citizen Kane</td>\n",
       "      <td>1941</td>\n",
       "      <td>Orson Welles</td>\n",
       "      <td>RKO Radio Pictures</td>\n",
       "      <td>1</td>\n",
       "    </tr>\n",
       "    <tr>\n",
       "      <th>1</th>\n",
       "      <td>Casablanca</td>\n",
       "      <td>1942</td>\n",
       "      <td>Michael Curtiz</td>\n",
       "      <td>Warner Bros. Pictures</td>\n",
       "      <td>2</td>\n",
       "    </tr>\n",
       "    <tr>\n",
       "      <th>2</th>\n",
       "      <td>The Godfather</td>\n",
       "      <td>1972</td>\n",
       "      <td>Francis Ford Coppola</td>\n",
       "      <td>Paramount Pictures, Alfran Productions</td>\n",
       "      <td>3</td>\n",
       "    </tr>\n",
       "    <tr>\n",
       "      <th>3</th>\n",
       "      <td>Gone with the Wind</td>\n",
       "      <td>1939</td>\n",
       "      <td>Victor Fleming</td>\n",
       "      <td>Selznick International Pictures</td>\n",
       "      <td>4</td>\n",
       "    </tr>\n",
       "    <tr>\n",
       "      <th>4</th>\n",
       "      <td>Lawrence of Arabia</td>\n",
       "      <td>1962</td>\n",
       "      <td>David Lean</td>\n",
       "      <td>Horizon Pictures</td>\n",
       "      <td>5</td>\n",
       "    </tr>\n",
       "  </tbody>\n",
       "</table>\n",
       "</div>"
      ],
      "text/plain": [
       "                 Film  Release year              Director  \\\n",
       "0        Citizen Kane          1941          Orson Welles   \n",
       "1          Casablanca          1942        Michael Curtiz   \n",
       "2       The Godfather          1972  Francis Ford Coppola   \n",
       "3  Gone with the Wind          1939        Victor Fleming   \n",
       "4  Lawrence of Arabia          1962            David Lean   \n",
       "\n",
       "                     Production companies  Rank  \n",
       "0                      RKO Radio Pictures     1  \n",
       "1                   Warner Bros. Pictures     2  \n",
       "2  Paramount Pictures, Alfran Productions     3  \n",
       "3         Selznick International Pictures     4  \n",
       "4                        Horizon Pictures     5  "
      ]
     },
     "execution_count": 15,
     "metadata": {},
     "output_type": "execute_result"
    }
   ],
   "source": [
    "datos_pelis.head()"
   ]
  },
  {
   "cell_type": "markdown",
   "id": "20076aed-6ee7-42e5-8874-b757c0cbe67b",
   "metadata": {},
   "source": [
    "# Leer archivos xlm y exportarlos"
   ]
  },
  {
   "cell_type": "code",
   "execution_count": 17,
   "id": "b25ee8f0-7ce8-4d95-8ee4-3ccae4033457",
   "metadata": {},
   "outputs": [],
   "source": [
    "# Importar datos web\n",
    "\n",
    "import pandas as pd\n",
    "datos_xlm = pd.read_xml('imdb_top_1000.xml')"
   ]
  },
  {
   "cell_type": "code",
   "execution_count": 19,
   "id": "b23ebc99-79d3-48e3-a94d-8d62961a80bf",
   "metadata": {},
   "outputs": [
    {
     "data": {
      "text/html": [
       "<div>\n",
       "<style scoped>\n",
       "    .dataframe tbody tr th:only-of-type {\n",
       "        vertical-align: middle;\n",
       "    }\n",
       "\n",
       "    .dataframe tbody tr th {\n",
       "        vertical-align: top;\n",
       "    }\n",
       "\n",
       "    .dataframe thead th {\n",
       "        text-align: right;\n",
       "    }\n",
       "</style>\n",
       "<table border=\"1\" class=\"dataframe\">\n",
       "  <thead>\n",
       "    <tr style=\"text-align: right;\">\n",
       "      <th></th>\n",
       "      <th>index</th>\n",
       "      <th>Poster_Link</th>\n",
       "      <th>Series_Title</th>\n",
       "      <th>Released_Year</th>\n",
       "      <th>Certificate</th>\n",
       "      <th>Runtime</th>\n",
       "      <th>Genre</th>\n",
       "      <th>IMDB_Rating</th>\n",
       "      <th>Overview</th>\n",
       "      <th>Meta_score</th>\n",
       "      <th>Director</th>\n",
       "      <th>Star1</th>\n",
       "      <th>Star2</th>\n",
       "      <th>Star3</th>\n",
       "      <th>Star4</th>\n",
       "      <th>No_of_Votes</th>\n",
       "      <th>Gross</th>\n",
       "    </tr>\n",
       "  </thead>\n",
       "  <tbody>\n",
       "    <tr>\n",
       "      <th>0</th>\n",
       "      <td>0</td>\n",
       "      <td>https://m.media-amazon.com/images/M/MV5BMDFkYT...</td>\n",
       "      <td>The Shawshank Redemption</td>\n",
       "      <td>1994</td>\n",
       "      <td>A</td>\n",
       "      <td>142 min</td>\n",
       "      <td>Drama</td>\n",
       "      <td>9.3</td>\n",
       "      <td>Two imprisoned men bond over a number of years...</td>\n",
       "      <td>80.0</td>\n",
       "      <td>Frank Darabont</td>\n",
       "      <td>Tim Robbins</td>\n",
       "      <td>Morgan Freeman</td>\n",
       "      <td>Bob Gunton</td>\n",
       "      <td>William Sadler</td>\n",
       "      <td>2343110</td>\n",
       "      <td>28,341,469</td>\n",
       "    </tr>\n",
       "    <tr>\n",
       "      <th>1</th>\n",
       "      <td>1</td>\n",
       "      <td>https://m.media-amazon.com/images/M/MV5BM2MyNj...</td>\n",
       "      <td>The Godfather</td>\n",
       "      <td>1972</td>\n",
       "      <td>A</td>\n",
       "      <td>175 min</td>\n",
       "      <td>Crime, Drama</td>\n",
       "      <td>9.2</td>\n",
       "      <td>An organized crime dynasty's aging patriarch t...</td>\n",
       "      <td>100.0</td>\n",
       "      <td>Francis Ford Coppola</td>\n",
       "      <td>Marlon Brando</td>\n",
       "      <td>Al Pacino</td>\n",
       "      <td>James Caan</td>\n",
       "      <td>Diane Keaton</td>\n",
       "      <td>1620367</td>\n",
       "      <td>134,966,411</td>\n",
       "    </tr>\n",
       "    <tr>\n",
       "      <th>2</th>\n",
       "      <td>2</td>\n",
       "      <td>https://m.media-amazon.com/images/M/MV5BMTMxNT...</td>\n",
       "      <td>The Dark Knight</td>\n",
       "      <td>2008</td>\n",
       "      <td>UA</td>\n",
       "      <td>152 min</td>\n",
       "      <td>Action, Crime, Drama</td>\n",
       "      <td>9.0</td>\n",
       "      <td>When the menace known as the Joker wreaks havo...</td>\n",
       "      <td>84.0</td>\n",
       "      <td>Christopher Nolan</td>\n",
       "      <td>Christian Bale</td>\n",
       "      <td>Heath Ledger</td>\n",
       "      <td>Aaron Eckhart</td>\n",
       "      <td>Michael Caine</td>\n",
       "      <td>2303232</td>\n",
       "      <td>534,858,444</td>\n",
       "    </tr>\n",
       "  </tbody>\n",
       "</table>\n",
       "</div>"
      ],
      "text/plain": [
       "   index                                        Poster_Link  \\\n",
       "0      0  https://m.media-amazon.com/images/M/MV5BMDFkYT...   \n",
       "1      1  https://m.media-amazon.com/images/M/MV5BM2MyNj...   \n",
       "2      2  https://m.media-amazon.com/images/M/MV5BMTMxNT...   \n",
       "\n",
       "               Series_Title Released_Year Certificate  Runtime  \\\n",
       "0  The Shawshank Redemption          1994           A  142 min   \n",
       "1             The Godfather          1972           A  175 min   \n",
       "2           The Dark Knight          2008          UA  152 min   \n",
       "\n",
       "                  Genre  IMDB_Rating  \\\n",
       "0                 Drama          9.3   \n",
       "1          Crime, Drama          9.2   \n",
       "2  Action, Crime, Drama          9.0   \n",
       "\n",
       "                                            Overview  Meta_score  \\\n",
       "0  Two imprisoned men bond over a number of years...        80.0   \n",
       "1  An organized crime dynasty's aging patriarch t...       100.0   \n",
       "2  When the menace known as the Joker wreaks havo...        84.0   \n",
       "\n",
       "               Director           Star1           Star2          Star3  \\\n",
       "0        Frank Darabont     Tim Robbins  Morgan Freeman     Bob Gunton   \n",
       "1  Francis Ford Coppola   Marlon Brando       Al Pacino     James Caan   \n",
       "2     Christopher Nolan  Christian Bale    Heath Ledger  Aaron Eckhart   \n",
       "\n",
       "            Star4  No_of_Votes        Gross  \n",
       "0  William Sadler      2343110   28,341,469  \n",
       "1    Diane Keaton      1620367  134,966,411  \n",
       "2   Michael Caine      2303232  534,858,444  "
      ]
     },
     "execution_count": 19,
     "metadata": {},
     "output_type": "execute_result"
    }
   ],
   "source": [
    "datos_xlm.head(3)"
   ]
  },
  {
   "cell_type": "markdown",
   "id": "38cd4b6a-639d-49c4-a340-5ae025bd7e6d",
   "metadata": {},
   "source": [
    "# Exportar a xlm"
   ]
  },
  {
   "cell_type": "code",
   "execution_count": 20,
   "id": "c3e6d92c-69bf-4063-81d1-b61725c360d0",
   "metadata": {},
   "outputs": [],
   "source": [
    "# exportar a XLM\n",
    "\n",
    "datos_xlm.to_xml('datos_xlm.xml', index=False)"
   ]
  },
  {
   "cell_type": "code",
   "execution_count": null,
   "id": "e3930bc9-8de3-4815-b758-ad945d15a7fe",
   "metadata": {},
   "outputs": [],
   "source": []
  }
 ],
 "metadata": {
  "kernelspec": {
   "display_name": "Python 3 (ipykernel)",
   "language": "python",
   "name": "python3"
  },
  "language_info": {
   "codemirror_mode": {
    "name": "ipython",
    "version": 3
   },
   "file_extension": ".py",
   "mimetype": "text/x-python",
   "name": "python",
   "nbconvert_exporter": "python",
   "pygments_lexer": "ipython3",
   "version": "3.13.3"
  }
 },
 "nbformat": 4,
 "nbformat_minor": 5
}
